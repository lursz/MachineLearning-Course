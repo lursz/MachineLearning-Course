{
 "cells": [
  {
   "cell_type": "code",
   "execution_count": 160,
   "metadata": {},
   "outputs": [
    {
     "data": {
      "text/plain": [
       "<Axes: xlabel='x', ylabel='y'>"
      ]
     },
     "execution_count": 160,
     "metadata": {},
     "output_type": "execute_result"
    },
    {
     "data": {
      "image/png": "[encoded data removed]",
      "text/plain": [
       "<Figure size 640x480 with 1 Axes>"
      ]
     },
     "metadata": {},
     "output_type": "display_data"
    }
   ],
   "source": [
    "from sklearn import datasets\n",
    "data_breast_cancer = datasets.load_breast_cancer(as_frame=True)\n",
    "import numpy as np\n",
    "import pandas as pd\n",
    "size = 300\n",
    "X = np.random.rand(size)*5-2.5\n",
    "w4, w3, w2, w1, w0 = 1, 2, 1, -4, 2\n",
    "y = w4*(X**4) + w3*(X**3) + w2*(X**2) + w1*X + w0 + np.random.randn(size)*8-4\n",
    "df = pd.DataFrame({'x': X, 'y': y})\n",
    "df.plot.scatter(x='x',y='y')\n"
   ]
  },
  {
   "attachments": {},
   "cell_type": "markdown",
   "metadata": {},
   "source": [
    "## 3"
   ]
  },
  {
   "cell_type": "code",
   "execution_count": 161,
   "metadata": {},
   "outputs": [
    {
     "name": "stdout",
     "output_type": "stream",
     "text": [
      "[3, 0.8391167192429022, 0.7746478873239436, 0.7758241758241758, 0.7192982456140351]\n"
     ]
    }
   ],
   "source": [
    "from sklearn.model_selection import train_test_split\n",
    "from sklearn.metrics import f1_score\n",
    "from sklearn.metrics import mean_squared_error\n",
    "from sklearn.tree import DecisionTreeClassifier\n",
    "from sklearn.ensemble import RandomForestClassifier\n",
    "import pickle\n",
    "max_depth = 3\n",
    "answer_list_3 = []\n",
    "# load data\n",
    "X_train, X_test, y_train, y_test = train_test_split(data_breast_cancer['data'][['mean texture', 'mean symmetry']], data_breast_cancer['target'], test_size=0.2)\n",
    "tree_clf = DecisionTreeClassifier(max_depth=max_depth).fit(X_train, y_train)\n",
    "y_train_pred, y_test_pred = tree_clf.predict(X_train), tree_clf.predict(X_test)\n",
    "\n",
    "answer_list_3.append(tree_clf.get_depth())\n",
    "answer_list_3.append(f1_score(y_train, y_train_pred))\n",
    "answer_list_3.append(f1_score(y_test, y_test_pred))\n",
    "answer_list_3.append(tree_clf.score(X_train, y_train))\n",
    "answer_list_3.append(tree_clf.score(X_test, y_test))\n",
    "# save to pickle\n",
    "with open('f1acc_tree.pkl', 'wb') as f:\n",
    "    pickle.dump(answer_list_3, f)\n",
    "print(answer_list_3)\n",
    "\n"
   ]
  },
  {
   "cell_type": "code",
   "execution_count": 162,
   "metadata": {},
   "outputs": [
    {
     "name": "stdout",
     "output_type": "stream",
     "text": [
      "depth: 1, f1_train: 0.7485380116959065, f1_test: 0.717948717948718\n",
      "depth: 2, f1_train: 0.8268907563025211, f1_test: 0.7625899280575539\n",
      "depth: 3, f1_train: 0.8391167192429022, f1_test: 0.7746478873239436\n",
      "depth: 4, f1_train: 0.8484848484848485, f1_test: 0.7746478873239436\n",
      "depth: 5, f1_train: 0.860759493670886, f1_test: 0.7777777777777778\n",
      "depth: 6, f1_train: 0.8771929824561403, f1_test: 0.7837837837837839\n",
      "depth: 7, f1_train: 0.8814691151919866, f1_test: 0.7857142857142858\n",
      "depth: 8, f1_train: 0.9063032367972743, f1_test: 0.7194244604316548\n",
      "depth: 9, f1_train: 0.9267461669505963, f1_test: 0.7338129496402879\n",
      "best depth: 7\n"
     ]
    }
   ],
   "source": [
    "list_of_f1 = []\n",
    "for depth in range(1,10):\n",
    "    temp_tree = DecisionTreeClassifier(max_depth=depth).fit(X_train, y_train)\n",
    "    y_train_pred, y_test_pred = temp_tree.predict(X_train), temp_tree.predict(X_test)\n",
    "    f1_train, f1_test = f1_score(y_train, y_train_pred), f1_score(y_test, y_test_pred)\n",
    "    list_of_f1.append((f1_test+f1_train)/2)\n",
    "    \n",
    "    print(f\"depth: {depth}, f1_train: {f1_train}, f1_test: {f1_test}\")\n",
    "print(f\"best depth: {np.argmax(list_of_f1)+1}\")\n"
   ]
  },
  {
   "cell_type": "code",
   "execution_count": 163,
   "metadata": {},
   "outputs": [],
   "source": [
    "from sklearn.tree import export_graphviz\n",
    "from sklearn import tree\n",
    "import graphviz\n",
    "dot_data = tree.export_graphviz(tree_clf, out_file=None, feature_names=['mean texture', 'mean symmetry'], class_names=['malignant', 'benign'], rounded=True, filled=True)\n",
    "graph = graphviz.Source(dot_data)  \n",
    "\n",
    "# save tree to png\n",
    "with open('bc.png', 'wb') as f:\n",
    "    f.write(graph.pipe(format='png'))\n",
    "# graph\n"
   ]
  },
  {
   "attachments": {},
   "cell_type": "markdown",
   "metadata": {},
   "source": [
    "## 4"
   ]
  },
  {
   "cell_type": "code",
   "execution_count": 164,
   "metadata": {},
   "outputs": [
    {
     "name": "stdout",
     "output_type": "stream",
     "text": [
      "[3, 67.36151743836747, 69.90398032803432]\n"
     ]
    }
   ],
   "source": [
    "X_train, X_test, y_train, y_test = train_test_split(X.reshape(-1,1), y.reshape(-1,1), test_size=0.2)\n",
    "from sklearn.tree import DecisionTreeRegressor\n",
    "tree_reg = DecisionTreeRegressor(max_depth=3).fit(X_train, y_train)\n",
    "y_train_pred_reg, y_test_pred_reg = tree_reg.predict(X_train), tree_reg.predict(X_test)\n",
    "train_mse, test_mse = mean_squared_error( y_train, y_train_pred_reg), mean_squared_error(y_test, y_test_pred_reg)\n",
    "\n",
    "answer_list_4 = []\n",
    "answer_list_4.append(tree_reg.get_depth())\n",
    "answer_list_4.append(train_mse)\n",
    "answer_list_4.append(test_mse)\n",
    "\n",
    "with open('mse_tree.pkl', 'wb') as f:\n",
    "    pickle.dump(answer_list_4, f)\n",
    "print(answer_list_4)\n"
   ]
  },
  {
   "cell_type": "code",
   "execution_count": 165,
   "metadata": {},
   "outputs": [
    {
     "name": "stdout",
     "output_type": "stream",
     "text": [
      "depth: 1, train_mse: 129.40999583216865, test_mse: 111.79180116584824, combined_mse: 120.60089849900845\n",
      "depth: 2, train_mse: 98.89910151447647, test_mse: 102.68602294939608, combined_mse: 100.79256223193627\n",
      "depth: 3, train_mse: 67.36151743836747, test_mse: 69.90398032803432, combined_mse: 68.63274888320089\n",
      "depth: 4, train_mse: 58.40488114628135, test_mse: 64.64699689281498, combined_mse: 61.52593901954816\n",
      "depth: 5, train_mse: 51.39579999208774, test_mse: 79.09056559592321, combined_mse: 65.24318279400548\n",
      "depth: 6, train_mse: 47.39457499752466, test_mse: 92.40967115936755, combined_mse: 69.9021230784461\n",
      "depth: 7, train_mse: 42.78777906932155, test_mse: 95.32047559201462, combined_mse: 69.05412733066808\n",
      "depth: 8, train_mse: 37.23891190268338, test_mse: 94.25828902034804, combined_mse: 65.74860046151571\n",
      "depth: 9, train_mse: 30.569898040844365, test_mse: 105.12959885539702, combined_mse: 67.84974844812069\n",
      "best depth: 4\n"
     ]
    }
   ],
   "source": [
    "list_of_mse = []\n",
    "for depth in range(1,10):\n",
    "    tree_reg_temp = DecisionTreeRegressor(max_depth=depth, random_state=42).fit(X_train, y_train)\n",
    "    y_train_pred_reg, y_test_pred_reg = tree_reg_temp.predict(X_train), tree_reg_temp.predict(X_test)\n",
    "    train_mse, test_mse = mean_squared_error(y_train, y_train_pred_reg), mean_squared_error(y_test, y_test_pred_reg)\n",
    "    list_of_mse.append((train_mse+test_mse)/2)\n",
    "    \n",
    "    print(f\"depth: {depth}, train_mse: {train_mse}, test_mse: {test_mse}, combined_mse: {list_of_mse[-1]}\")\n",
    "print(f\"best depth: {np.argmin(list_of_mse)+1}\")\n",
    "\n",
    "    "
   ]
  },
  {
   "cell_type": "code",
   "execution_count": 166,
   "metadata": {},
   "outputs": [],
   "source": [
    "from sklearn.tree import export_graphviz\n",
    "from sklearn import tree\n",
    "import graphviz\n",
    "\n",
    "dot_string = export_graphviz(tree_reg, out_file=None, rounded=True, filled=True)\n",
    "graph = graphviz.Source(dot_string)\n",
    "\n",
    "with open('reg.png', 'wb') as f:\n",
    "    f.write(graph.pipe(format='png'))"
   ]
  },
  {
   "cell_type": "code",
   "execution_count": 167,
   "metadata": {},
   "outputs": [],
   "source": [
    "import matplotlib.pyplot as plt\n",
    "from sklearn.preprocessing import PolynomialFeatures\n",
    "from sklearn.neighbors import KNeighborsRegressor\n",
    "from sklearn.linear_model import LinearRegression\n",
    "\n",
    "# Train polynomial regression\n",
    "poly_features = PolynomialFeatures(degree=3, include_bias=False)\n",
    "X_train_poly = poly_features.fit_transform(X_train)\n",
    "X_test_poly = poly_features.fit_transform(X_test)\n",
    "lin_reg_poly = LinearRegression().fit(X_train_poly, y_train)\n",
    "lin_reg_poly_t = LinearRegression().fit(X_test_poly, y_test)\n",
    "\n",
    "# Make predictions with polynomial regression\n",
    "y_train_pred_poly = lin_reg_poly.predict(X_train_poly)\n",
    "y_test_pred_poly = lin_reg_poly.predict(X_test_poly)\n",
    "\n",
    "\n",
    "# Train KNN regressor\n",
    "knn = KNeighborsRegressor(n_neighbors=5)\n",
    "knn.fit(X_train, y_train)\n",
    "y_train_pred_knn = knn.predict(X_train)\n",
    "y_test_pred_knn = knn.predict(X_test)\n",
    "\n",
    "# Plot data and predictions\n",
    "# plt.plot(X_train, y_train_pred_poly, label='poly train')\n",
    "# plt.plot(X_test, y_test_pred_poly, label='poly test')\n",
    "# plt.plot(X_train, y_train_pred_knn, label='knn train')\n",
    "# plt.plot(X_test, y_test_pred_knn, label='knn test')\n",
    "# plt.legend()\n",
    "# plt.show()"
   ]
  }
 ],
 "metadata": {
  "kernelspec": {
   "display_name": "ml",
   "language": "python",
   "name": "python3"
  },
  "language_info": {
   "codemirror_mode": {
    "name": "ipython",
    "version": 3
   },
   "file_extension": ".py",
   "mimetype": "text/x-python",
   "name": "python",
   "nbconvert_exporter": "python",
   "pygments_lexer": "ipython3",
   "version": "3.10.6"
  },
  "orig_nbformat": 4,
  "vscode": {
   "interpreter": {
    "hash": "10069fcd57f552c356d4184df92a3049b3ae7b86ce1270dbc1b32fcae1c33571"
   }
  }
 },
 "nbformat": 4,
 "nbformat_minor": 2
}
