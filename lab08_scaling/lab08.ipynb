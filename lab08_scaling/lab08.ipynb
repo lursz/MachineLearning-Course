{
 "cells": [
  {
   "cell_type": "code",
   "execution_count": 42,
   "metadata": {},
   "outputs": [],
   "source": [
    "from sklearn.decomposition import PCA\n",
    "from sklearn.preprocessing import StandardScaler\n",
    "import numpy as np\n",
    "import pickle\n",
    "import pandas as pd"
   ]
  },
  {
   "cell_type": "code",
   "execution_count": 43,
   "metadata": {},
   "outputs": [
    {
     "data": {
      "text/plain": [
       "((569, 30), (150, 4))"
      ]
     },
     "execution_count": 43,
     "metadata": {},
     "output_type": "execute_result"
    }
   ],
   "source": [
    "import numpy as np\n",
    "from sklearn.datasets import load_breast_cancer, load_iris\n",
    "\n",
    "data_breast_cancer = load_breast_cancer(as_frame=True)\n",
    "data_iris = load_iris(as_frame=True)\n",
    "\n",
    "\n",
    "import pandas as pd\n",
    "\n",
    "X_cancer = data_breast_cancer.data\n",
    "y_cancer = data_breast_cancer.target\n",
    "\n",
    "X_iris = data_iris.data\n",
    "y_iris = data_iris.target\n",
    "\n",
    "X_cancer.shape, X_iris.shape\n"
   ]
  },
  {
   "attachments": {},
   "cell_type": "markdown",
   "metadata": {},
   "source": [
    "## 3.1-3.3 breast cancer dataset"
   ]
  },
  {
   "attachments": {},
   "cell_type": "markdown",
   "metadata": {},
   "source": [
    "Skalowanie danych"
   ]
  },
  {
   "cell_type": "code",
   "execution_count": 44,
   "metadata": {},
   "outputs": [],
   "source": [
    "from sklearn.preprocessing import StandardScaler\n",
    "\n",
    "scaler = StandardScaler()\n",
    "X_cancer_scaled = scaler.fit_transform(X_cancer)\n",
    "X_iris_scaled = scaler.fit_transform(X_iris)"
   ]
  },
  {
   "attachments": {},
   "cell_type": "markdown",
   "metadata": {},
   "source": [
    "PCA analisis"
   ]
  },
  {
   "cell_type": "code",
   "execution_count": 45,
   "metadata": {},
   "outputs": [
    {
     "name": "stdout",
     "output_type": "stream",
     "text": [
      "Cancer:\n",
      "(569, 30) --> (569, 1)\n",
      "[0.98204467]\n",
      "Iris:\n",
      "(150, 4) --> (150, 1)\n",
      "[0.92461872]\n"
     ]
    }
   ],
   "source": [
    "\n",
    "from sklearn.decomposition import PCA\n",
    "\n",
    "print(\"Cancer:\")\n",
    "pca_cancer = PCA(n_components=0.9)\n",
    "X_red_cancer = pca_cancer.fit_transform(X_cancer)\n",
    "print(X_cancer.shape, '-->', X_red_cancer.shape)\n",
    "print(pca_cancer.explained_variance_ratio_)\n",
    "\n",
    "print(\"Iris:\")\n",
    "pca_iris = PCA(n_components=0.9)\n",
    "X_red_iris = pca_iris.fit_transform(X_iris)\n",
    "print(X_iris.shape, '-->', X_red_iris.shape)\n",
    "print(pca_iris.explained_variance_ratio_)\n"
   ]
  },
  {
   "attachments": {},
   "cell_type": "markdown",
   "metadata": {},
   "source": [
    "## 3.1-3.3 iris dataset"
   ]
  },
  {
   "cell_type": "code",
   "execution_count": 46,
   "metadata": {},
   "outputs": [
    {
     "name": "stdout",
     "output_type": "stream",
     "text": [
      "(569, 30) <-- (569, 1)\n",
      "Cancer scaled:\n",
      "(569, 30) --> (569, 7)\n",
      "[0.44272026 0.18971182 0.09393163 0.06602135 0.05495768 0.04024522\n",
      " 0.02250734]\n",
      "Iris scaled:\n",
      "(150, 4) --> (150, 2)\n",
      "[0.72962445 0.22850762]\n"
     ]
    }
   ],
   "source": [
    "X_recovered = pca_cancer.inverse_transform(X_red_cancer)\n",
    "print(X_recovered.shape,'<--', X_red_cancer.shape)\n",
    "\n",
    "\n",
    "print(\"Cancer scaled:\")\n",
    "pca_cancer_scaled = PCA(n_components=0.9)\n",
    "X_red_cancer_scaled = pca_cancer_scaled.fit_transform(X_cancer_scaled)\n",
    "print(X_cancer_scaled.shape, '-->', X_red_cancer_scaled.shape)\n",
    "print(pca_cancer_scaled.explained_variance_ratio_)\n",
    "\n",
    "print(\"Iris scaled:\")\n",
    "pca_iris_scaled = PCA(n_components=0.9)\n",
    "X_red_iris_scaled = pca_iris_scaled.fit_transform(X_iris_scaled)\n",
    "print(X_iris_scaled.shape, '-->', X_red_iris_scaled.shape)\n",
    "print(pca_iris_scaled.explained_variance_ratio_)\n",
    "\n",
    "pd.to_pickle(pca_cancer_scaled.explained_variance_ratio_, \"pca_bc.pkl\")\n",
    "pd.to_pickle(pca_iris_scaled.explained_variance_ratio_, \"pca_ir.pkl\")\n",
    "\n"
   ]
  },
  {
   "attachments": {},
   "cell_type": "markdown",
   "metadata": {},
   "source": [
    "## 3.4"
   ]
  },
  {
   "cell_type": "code",
   "execution_count": 47,
   "metadata": {},
   "outputs": [
    {
     "name": "stdout",
     "output_type": "stream",
     "text": [
      "[7, 9, 11, 21, 4, 28, 29]\n",
      "[2, 1]\n"
     ]
    }
   ],
   "source": [
    "import numpy as np\n",
    "\n",
    "most_important_features_cancer = [np.argmax(abs(x)) for x in pca_cancer_scaled.components_]\n",
    "most_important_features_iris = [np.argmax(abs(x)) for x in pca_iris_scaled.components_]\n",
    "\n",
    "pd.to_pickle(most_important_features_cancer, \"idx_bc.pkl\")\n",
    "pd.to_pickle(most_important_features_iris, \"idx_ir.pkl\")\n",
    "\n",
    "print(most_important_features_cancer)\n",
    "print(most_important_features_iris)"
   ]
  }
 ],
 "metadata": {
  "kernelspec": {
   "display_name": "ml",
   "language": "python",
   "name": "python3"
  },
  "language_info": {
   "codemirror_mode": {
    "name": "ipython",
    "version": 3
   },
   "file_extension": ".py",
   "mimetype": "text/x-python",
   "name": "python",
   "nbconvert_exporter": "python",
   "pygments_lexer": "ipython3",
   "version": "3.11.3"
  },
  "orig_nbformat": 4
 },
 "nbformat": 4,
 "nbformat_minor": 2
}
