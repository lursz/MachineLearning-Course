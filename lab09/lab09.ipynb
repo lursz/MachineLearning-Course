{
 "cells": [
  {
   "attachments": {},
   "cell_type": "markdown",
   "metadata": {},
   "source": [
    "## Imports"
   ]
  },
  {
   "cell_type": "code",
   "execution_count": 113,
   "metadata": {},
   "outputs": [],
   "source": [
    "from sklearn.datasets import load_iris\n",
    "import pandas as pd\n",
    "import numpy as np\n",
    "import pickle\n",
    "from sklearn.model_selection import train_test_split\n",
    "from sklearn.metrics import accuracy_score\n",
    "from sklearn.linear_model import Perceptron\n"
   ]
  },
  {
   "attachments": {},
   "cell_type": "markdown",
   "metadata": {},
   "source": [
    "## Load data"
   ]
  },
  {
   "cell_type": "code",
   "execution_count": 114,
   "metadata": {},
   "outputs": [],
   "source": [
    "iris = load_iris(as_frame=True)\n",
    "X_train, X_test, y_train, y_test = train_test_split(iris.data[[\"petal width (cm)\", \"petal length (cm)\"]], iris.target, test_size=0.2)\n"
   ]
  },
  {
   "attachments": {},
   "cell_type": "markdown",
   "metadata": {},
   "source": [
    "## 2.1"
   ]
  },
  {
   "cell_type": "code",
   "execution_count": 115,
   "metadata": {},
   "outputs": [],
   "source": [
    "# Class 0 (setosa)\n",
    "perceptron0 = Perceptron(eta0=0.1, max_iter=100, penalty=None)\n",
    "\n",
    "# Train the perceptron on class 0\n",
    "y_train_0 = (y_train == 0) # True for setosa, False for others\n",
    "y_test_0 = (y_test == 0)\n",
    "\n",
    "# Fit\n",
    "perceptron0.fit(X_train, y_train_0)\n",
    "\n",
    "# Predict\n",
    "y_pred_train_0 = perceptron0.predict(X_train)\n",
    "y_pred_test_0 = perceptron0.predict(X_test)\n",
    "\n",
    "# Accuracy\n",
    "acc_train_0 = accuracy_score(y_train_0, y_pred_train_0)\n",
    "acc_test_0 = accuracy_score(y_test_0, y_pred_test_0)\n",
    "\n",
    "# Get weights\n",
    "w_0 = perceptron0.intercept_"
   ]
  },
  {
   "cell_type": "code",
   "execution_count": 116,
   "metadata": {},
   "outputs": [],
   "source": [
    "# Class 1 (versicolor)\n",
    "perceptron1 = Perceptron(eta0=0.1, max_iter=100, penalty=None)\n",
    "\n",
    "# Train the perceptron on class 1\n",
    "y_train_1 = (y_train == 1) # True for versicolor, False for others\n",
    "y_test_1 = (y_test == 1)\n",
    "\n",
    "# Fit\n",
    "perceptron1.fit(X_train, y_train_1)\n",
    "\n",
    "# Predict\n",
    "y_pred_train_1 = perceptron1.predict(X_train)\n",
    "y_pred_test_1 = perceptron1.predict(X_test)\n",
    "\n",
    "# Accuracy\n",
    "acc_train_1 = accuracy_score(y_train_0, y_pred_train_0)\n",
    "acc_test_1 = accuracy_score(y_test_0, y_pred_test_0)\n",
    "\n",
    "# Get weights\n",
    "w_1 = perceptron1.intercept_"
   ]
  },
  {
   "cell_type": "code",
   "execution_count": 123,
   "metadata": {},
   "outputs": [
    {
     "name": "stdout",
     "output_type": "stream",
     "text": [
      "[-5.5]\n"
     ]
    }
   ],
   "source": [
    "# Class 2 (virginica)\n",
    "\n",
    "perceptron2 = Perceptron(eta0=0.1, max_iter=100, penalty=None)\n",
    "\n",
    "# Train the perceptron on class 2\n",
    "y_train_2 = (y_train == 2) # True for virginica, False for others\n",
    "y_test_2 = (y_test == 2)\n",
    " \n",
    "# Fit\n",
    "perceptron2.fit(X_train, y_train_2)\n",
    "\n",
    "# Predict\n",
    "y_pred_train_2 = perceptron2.predict(X_train)\n",
    "y_pred_test_2 = perceptron2.predict(X_test)\n",
    "\n",
    "# Accuracy\n",
    "acc_train_2 = accuracy_score(y_train_0, y_pred_train_0)\n",
    "acc_test_2 = accuracy_score(y_test_0, y_pred_test_0)\n",
    "\n",
    "# Get weights\n",
    "w_2 = perceptron2.intercept_"
   ]
  },
  {
   "cell_type": "code",
   "execution_count": 124,
   "metadata": {},
   "outputs": [
    {
     "name": "stdout",
     "output_type": "stream",
     "text": [
      "-1.2 [-5.5] 0.4\n"
     ]
    }
   ],
   "source": [
    "\n",
    "\n",
    "with open('per_acc.pkl', 'wb') as f:\n",
    "    pickle.dump([(acc_train_0, acc_test_0), (acc_train_1, acc_test_1), (acc_train_2, acc_test_2)], f)\n",
    "\n",
    "with open('per_wght.pkl', 'wb') as f:\n",
    "    pickle.dump((w_0, w_1, w_2), f)"
   ]
  },
  {
   "attachments": {},
   "cell_type": "markdown",
   "metadata": {},
   "source": [
    "## 2.2"
   ]
  },
  {
   "cell_type": "code",
   "execution_count": 119,
   "metadata": {},
   "outputs": [],
   "source": [
    "\n",
    "X_xor = np.array([[0, 0],\n",
    "              [0, 1],\n",
    "              [1, 0],\n",
    "              [1, 1]])\n",
    "y_xor = np.array([0,1,1,0])\n"
   ]
  },
  {
   "cell_type": "code",
   "execution_count": 120,
   "metadata": {},
   "outputs": [
    {
     "name": "stdout",
     "output_type": "stream",
     "text": [
      "Prediction values: [0 0 0 0]\n",
      "Weights: [[0. 0.]]\n"
     ]
    }
   ],
   "source": [
    "\n",
    "perceptron = Perceptron(max_iter=1000)\n",
    "perceptron.fit(X_xor, y_xor)\n",
    "\n",
    "predictions = perceptron.predict(X_xor)\n",
    "print(\"Prediction values:\", predictions)\n",
    "weights = perceptron.coef_\n",
    "print(\"Weights:\", weights)"
   ]
  },
  {
   "attachments": {},
   "cell_type": "markdown",
   "metadata": {},
   "source": [
    "## 2.3\n"
   ]
  },
  {
   "cell_type": "code",
   "execution_count": 121,
   "metadata": {},
   "outputs": [
    {
     "name": "stdout",
     "output_type": "stream",
     "text": [
      "Prediction values: [0 1 1 0]\n",
      "Score: 1.0\n"
     ]
    }
   ],
   "source": [
    "from sklearn.neural_network import MLPClassifier\n",
    "\n",
    "\n",
    "clf = MLPClassifier(activation='relu', solver='lbfgs', max_iter=100, learning_rate_init=0.1).fit(X_xor, y_xor)\n",
    "\n",
    "clf_predictions = clf.predict(X_xor)\n",
    "print(\"Prediction values:\", clf_predictions)\n",
    "\n",
    "clf_score = clf.score(X_xor, y_xor)\n",
    "print(\"Score:\", clf_score)\n",
    "\n",
    "\n",
    "with open('mlp_xor.pkl', 'wb') as f:\n",
    "    pickle.dump(clf, f)\n"
   ]
  },
  {
   "cell_type": "code",
   "execution_count": 122,
   "metadata": {},
   "outputs": [
    {
     "name": "stdout",
     "output_type": "stream",
     "text": [
      "Prediction values: [0 1 1 0]\n",
      "Score: 1.0\n"
     ]
    },
    {
     "name": "stderr",
     "output_type": "stream",
     "text": [
      "/home/lenovo/.local/lib/python3.11/site-packages/sklearn/neural_network/_multilayer_perceptron.py:686: ConvergenceWarning: Stochastic Optimizer: Maximum iterations (1) reached and the optimization hasn't converged yet.\n",
      "  warnings.warn(\n"
     ]
    }
   ],
   "source": [
    "clf = MLPClassifier(activation='tanh', solver='sgd', max_iter=1, learning_rate_init=0.1, hidden_layer_sizes=(2,))\n",
    "# Weights\n",
    "clf.fit(X_xor, y_xor)\n",
    "\n",
    "clf.coefs_ = [np.array([[1.0, 1], [1, 1]]), np.array([[-1.0], [1]])]\n",
    "clf.intercepts_ = [np.array([-1.5, -0.5]), np.array([-0.5])]\n",
    "\n",
    "clf_predictions = clf.predict(X_xor)\n",
    "\n",
    "print(\"Prediction values:\", clf_predictions)\n",
    "\n",
    "clf_score = clf.score(X_xor, y_xor)\n",
    "print(\"Score:\", clf_score)\n",
    "\n",
    "\n",
    "with open('mlp_xor_fixed.pkl', 'wb') as f:\n",
    "    pickle.dump(clf, f) \n"
   ]
  },
  {
   "cell_type": "code",
   "execution_count": null,
   "metadata": {},
   "outputs": [],
   "source": []
  }
 ],
 "metadata": {
  "kernelspec": {
   "display_name": "ml",
   "language": "python",
   "name": "python3"
  },
  "language_info": {
   "codemirror_mode": {
    "name": "ipython",
    "version": 3
   },
   "file_extension": ".py",
   "mimetype": "text/x-python",
   "name": "python",
   "nbconvert_exporter": "python",
   "pygments_lexer": "ipython3",
   "version": "3.11.3"
  },
  "orig_nbformat": 4
 },
 "nbformat": 4,
 "nbformat_minor": 2
}
