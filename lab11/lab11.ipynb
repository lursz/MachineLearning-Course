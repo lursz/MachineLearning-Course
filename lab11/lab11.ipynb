{
 "cells": [
  {
   "cell_type": "markdown",
   "metadata": {},
   "source": [
    "# Tuning"
   ]
  },
  {
   "attachments": {},
   "cell_type": "markdown",
   "metadata": {},
   "source": [
    "## Imports"
   ]
  },
  {
   "cell_type": "code",
   "execution_count": 1,
   "metadata": {},
   "outputs": [
    {
     "name": "stderr",
     "output_type": "stream",
     "text": [
      "2023-06-04 00:44:19.765091: I tensorflow/tsl/cuda/cudart_stub.cc:28] Could not find cuda drivers on your machine, GPU will not be used.\n",
      "2023-06-04 00:44:19.818935: I tensorflow/tsl/cuda/cudart_stub.cc:28] Could not find cuda drivers on your machine, GPU will not be used.\n",
      "2023-06-04 00:44:19.819708: I tensorflow/core/platform/cpu_feature_guard.cc:182] This TensorFlow binary is optimized to use available CPU instructions in performance-critical operations.\n",
      "To enable the following instructions: AVX2 FMA, in other operations, rebuild TensorFlow with the appropriate compiler flags.\n",
      "2023-06-04 00:44:20.503068: W tensorflow/compiler/tf2tensorrt/utils/py_utils.cc:38] TF-TRT Warning: Could not find TensorRT\n"
     ]
    }
   ],
   "source": [
    "import numpy as np\n",
    "import pickle\n",
    "import os\n",
    "\n",
    "from scipy.stats import reciprocal\n",
    "# Sklearn\n",
    "from sklearn.datasets import fetch_california_housing\n",
    "from sklearn.model_selection import train_test_split\n",
    "from sklearn.preprocessing import StandardScaler\n",
    "from sklearn.linear_model import SGDClassifier\n",
    "from sklearn.model_selection import RandomizedSearchCV\n",
    "\n",
    "# Keras\n",
    "import scikeras \n",
    "from scikeras.wrappers import KerasRegressor\n",
    "import tensorflow as tf\n",
    "import keras_tuner as kt\n",
    "\n",
    "\n"
   ]
  },
  {
   "attachments": {},
   "cell_type": "markdown",
   "metadata": {},
   "source": [
    "## Get data"
   ]
  },
  {
   "cell_type": "code",
   "execution_count": 2,
   "metadata": {},
   "outputs": [],
   "source": [
    "\n",
    "housing = fetch_california_housing()\n",
    "X_train_full, X_test, y_train_full, y_test = train_test_split(housing.data, housing.target, random_state=42) # type: ignore\n",
    "X_train, X_valid, y_train, y_valid = train_test_split(X_train_full, y_train_full, random_state=42)\n",
    "scaler = StandardScaler()\n",
    "X_train = scaler.fit_transform(X_train)\n",
    "X_valid = scaler.transform(X_valid)\n",
    "X_test = scaler.transform(X_test)"
   ]
  },
  {
   "attachments": {},
   "cell_type": "markdown",
   "metadata": {},
   "source": [
    "## Scikeras"
   ]
  },
  {
   "cell_type": "code",
   "execution_count": 3,
   "metadata": {},
   "outputs": [],
   "source": [
    "param_distribs = {\n",
    "    \"model__n_hidden\": list(range(0, 4)),\n",
    "    \"model__n_neurons\": list(range(1, 101)),\n",
    "    \"model__learning_rate\": reciprocal(3e-4, 3e-2).rvs(1000).tolist(),\n",
    "    \"model__optimizer\": ['adam', 'sgd', 'nesterov']\n",
    "}\n"
   ]
  },
  {
   "cell_type": "code",
   "execution_count": 4,
   "metadata": {},
   "outputs": [],
   "source": [
    "def build_model(n_hidden, n_neurons, optimizer, learning_rate):\n",
    "    model = tf.keras.models.Sequential()\n",
    "    model.add(tf.keras.layers.InputLayer(input_shape=X_train[0].shape))\n",
    "    \n",
    "    for layer in range(n_hidden):\n",
    "        model.add(tf.keras.layers.Dense(n_neurons, activation=\"relu\"))\n",
    "    model.add(tf.keras.layers.Dense(1))\n",
    "    \n",
    "    if optimizer == \"adam\":\n",
    "        optimizer = tf.keras.optimizers.Adam(learning_rate=learning_rate)\n",
    "    elif optimizer == \"sgd\":\n",
    "        optimizer = tf.keras.optimizers.SGD(learning_rate=learning_rate)\n",
    "    elif optimizer == \"nesterov\":\n",
    "        optimizer = tf.keras.optimizers.SGD(learning_rate=learning_rate, nesterov=True)\n",
    "        \n",
    "    model.compile(loss=\"mse\", optimizer=optimizer, metrics=[\"mse\"])\n",
    "    return model"
   ]
  },
  {
   "attachments": {},
   "cell_type": "markdown",
   "metadata": {},
   "source": [
    "## Early stopping"
   ]
  },
  {
   "cell_type": "code",
   "execution_count": 5,
   "metadata": {},
   "outputs": [],
   "source": [
    "early_stopping = tf.keras.callbacks.EarlyStopping(patience=10, min_delta=1, verbose=1)\n",
    "\n",
    "\n",
    "keras_reg = KerasRegressor(build_model, callbacks=[early_stopping])"
   ]
  },
  {
   "attachments": {},
   "cell_type": "markdown",
   "metadata": {},
   "source": [
    "## RandomizedSearchCV"
   ]
  },
  {
   "cell_type": "code",
   "execution_count": 6,
   "metadata": {},
   "outputs": [
    {
     "name": "stdout",
     "output_type": "stream",
     "text": [
      "Fitting 3 folds for each of 10 candidates, totalling 30 fits\n"
     ]
    },
    {
     "name": "stderr",
     "output_type": "stream",
     "text": [
      "2023-06-04 00:44:21.852574: I tensorflow/compiler/xla/stream_executor/cuda/cuda_gpu_executor.cc:982] could not open file to read NUMA node: /sys/bus/pci/devices/0000:01:00.0/numa_node\n",
      "Your kernel may have been built without NUMA support.\n",
      "2023-06-04 00:44:21.852945: W tensorflow/core/common_runtime/gpu/gpu_device.cc:1956] Cannot dlopen some GPU libraries. Please make sure the missing libraries mentioned above are installed properly if you would like to use GPU. Follow the guide at https://www.tensorflow.org/install/gpu for how to download and setup the required libraries for your platform.\n",
      "Skipping registering GPU devices...\n"
     ]
    },
    {
     "name": "stdout",
     "output_type": "stream",
     "text": [
      "Epoch 16: early stopping\n",
      "121/121 [==============================] - 0s 1ms/step\n",
      "[CV] END model__learning_rate=0.00048549849822155543, model__n_hidden=0, model__n_neurons=84, model__optimizer=nesterov; total time=   9.8s\n",
      "Epoch 58: early stopping\n",
      "121/121 [==============================] - 0s 1ms/step\n",
      "[CV] END model__learning_rate=0.00048549849822155543, model__n_hidden=0, model__n_neurons=84, model__optimizer=nesterov; total time=  31.0s\n",
      "Epoch 14: early stopping\n",
      "121/121 [==============================] - 0s 1ms/step\n",
      "[CV] END model__learning_rate=0.00048549849822155543, model__n_hidden=0, model__n_neurons=84, model__optimizer=nesterov; total time=   8.0s\n",
      "Epoch 42: early stopping\n",
      "121/121 [==============================] - 0s 1ms/step\n",
      "[CV] END model__learning_rate=0.0017811972717947612, model__n_hidden=0, model__n_neurons=56, model__optimizer=adam; total time=  22.3s\n",
      "Epoch 11: early stopping\n",
      "121/121 [==============================] - 0s 1ms/step\n",
      "[CV] END model__learning_rate=0.0017811972717947612, model__n_hidden=0, model__n_neurons=56, model__optimizer=adam; total time=   6.3s\n",
      "Epoch 19: early stopping\n",
      "121/121 [==============================] - 0s 1ms/step\n",
      "[CV] END model__learning_rate=0.0017811972717947612, model__n_hidden=0, model__n_neurons=56, model__optimizer=adam; total time=  10.5s\n",
      "Epoch 12: early stopping\n",
      "121/121 [==============================] - 0s 1ms/step\n",
      "[CV] END model__learning_rate=0.0019044933838627837, model__n_hidden=3, model__n_neurons=84, model__optimizer=nesterov; total time=   8.3s\n",
      "Epoch 13: early stopping\n",
      "121/121 [==============================] - 0s 1ms/step\n",
      "[CV] END model__learning_rate=0.0019044933838627837, model__n_hidden=3, model__n_neurons=84, model__optimizer=nesterov; total time=   9.3s\n",
      "Epoch 12: early stopping\n",
      "121/121 [==============================] - 0s 1ms/step\n",
      "[CV] END model__learning_rate=0.0019044933838627837, model__n_hidden=3, model__n_neurons=84, model__optimizer=nesterov; total time=   8.2s\n",
      "Epoch 14: early stopping\n",
      "121/121 [==============================] - 0s 1ms/step\n",
      "[CV] END model__learning_rate=0.002597770178234036, model__n_hidden=1, model__n_neurons=47, model__optimizer=sgd; total time=   8.4s\n",
      "Epoch 12: early stopping\n",
      "121/121 [==============================] - 0s 1ms/step\n",
      "[CV] END model__learning_rate=0.002597770178234036, model__n_hidden=1, model__n_neurons=47, model__optimizer=sgd; total time=   7.3s\n",
      "Epoch 17: early stopping\n",
      "121/121 [==============================] - 0s 2ms/step\n",
      "[CV] END model__learning_rate=0.002597770178234036, model__n_hidden=1, model__n_neurons=47, model__optimizer=sgd; total time=  10.2s\n",
      "Epoch 11: early stopping\n",
      "121/121 [==============================] - 0s 1ms/step\n",
      "[CV] END model__learning_rate=0.0012686373368329474, model__n_hidden=3, model__n_neurons=88, model__optimizer=nesterov; total time=   8.0s\n",
      "Epoch 14: early stopping\n",
      "121/121 [==============================] - 0s 1ms/step\n",
      "[CV] END model__learning_rate=0.0012686373368329474, model__n_hidden=3, model__n_neurons=88, model__optimizer=nesterov; total time=  10.0s\n",
      "Epoch 11: early stopping\n",
      "121/121 [==============================] - 0s 1ms/step\n",
      "[CV] END model__learning_rate=0.0012686373368329474, model__n_hidden=3, model__n_neurons=88, model__optimizer=nesterov; total time=   7.6s\n",
      "Epoch 12: early stopping\n",
      "121/121 [==============================] - 0s 1ms/step\n",
      "[CV] END model__learning_rate=0.001761768761897382, model__n_hidden=2, model__n_neurons=14, model__optimizer=adam; total time=   7.7s\n",
      "Epoch 12: early stopping\n",
      "121/121 [==============================] - 0s 1ms/step\n",
      "[CV] END model__learning_rate=0.001761768761897382, model__n_hidden=2, model__n_neurons=14, model__optimizer=adam; total time=   7.7s\n",
      "Epoch 11: early stopping\n",
      "121/121 [==============================] - 0s 1ms/step\n",
      "[CV] END model__learning_rate=0.001761768761897382, model__n_hidden=2, model__n_neurons=14, model__optimizer=adam; total time=   7.1s\n",
      "Epoch 13: early stopping\n",
      "121/121 [==============================] - 0s 1ms/step\n",
      "[CV] END model__learning_rate=0.003401261815981262, model__n_hidden=1, model__n_neurons=93, model__optimizer=nesterov; total time=   7.8s\n",
      "Epoch 12: early stopping\n",
      "121/121 [==============================] - 0s 1ms/step\n",
      "[CV] END model__learning_rate=0.003401261815981262, model__n_hidden=1, model__n_neurons=93, model__optimizer=nesterov; total time=   7.3s\n",
      "Epoch 13: early stopping\n",
      "121/121 [==============================] - 0s 1ms/step\n",
      "[CV] END model__learning_rate=0.003401261815981262, model__n_hidden=1, model__n_neurons=93, model__optimizer=nesterov; total time=   8.3s\n",
      "Epoch 19: early stopping\n",
      "121/121 [==============================] - 0s 1ms/step\n",
      "[CV] END model__learning_rate=0.0028444755294619204, model__n_hidden=0, model__n_neurons=100, model__optimizer=adam; total time=  10.8s\n",
      "Epoch 12: early stopping\n",
      "121/121 [==============================] - 0s 1ms/step\n",
      "[CV] END model__learning_rate=0.0028444755294619204, model__n_hidden=0, model__n_neurons=100, model__optimizer=adam; total time=   7.0s\n",
      "Epoch 13: early stopping\n",
      "121/121 [==============================] - 0s 1ms/step\n",
      "[CV] END model__learning_rate=0.0028444755294619204, model__n_hidden=0, model__n_neurons=100, model__optimizer=adam; total time=   7.5s\n",
      "Epoch 15: early stopping\n",
      "121/121 [==============================] - 0s 1ms/step\n",
      "[CV] END model__learning_rate=0.003164276650787289, model__n_hidden=0, model__n_neurons=19, model__optimizer=nesterov; total time=   8.6s\n",
      "Epoch 32: early stopping\n",
      "121/121 [==============================] - 0s 1ms/step\n",
      "[CV] END model__learning_rate=0.003164276650787289, model__n_hidden=0, model__n_neurons=19, model__optimizer=nesterov; total time=  17.8s\n",
      "Epoch 11: early stopping\n",
      "121/121 [==============================] - 0s 1ms/step\n",
      "[CV] END model__learning_rate=0.003164276650787289, model__n_hidden=0, model__n_neurons=19, model__optimizer=nesterov; total time=   6.5s\n",
      "Epoch 12: early stopping\n",
      "121/121 [==============================] - 0s 1ms/step\n",
      "[CV] END model__learning_rate=0.0007034726873766472, model__n_hidden=1, model__n_neurons=53, model__optimizer=adam; total time=   7.3s\n",
      "Epoch 28: early stopping\n",
      "121/121 [==============================] - 0s 1ms/step\n",
      "[CV] END model__learning_rate=0.0007034726873766472, model__n_hidden=1, model__n_neurons=53, model__optimizer=adam; total time=  16.0s\n",
      "Epoch 12: early stopping\n",
      "121/121 [==============================] - 0s 1ms/step\n",
      "[CV] END model__learning_rate=0.0007034726873766472, model__n_hidden=1, model__n_neurons=53, model__optimizer=adam; total time=   7.7s\n",
      "Epoch 12: early stopping\n"
     ]
    },
    {
     "data": {
      "text/html": [
       "<style>#sk-container-id-1 {color: black;background-color: white;}#sk-container-id-1 pre{padding: 0;}#sk-container-id-1 div.sk-toggleable {background-color: white;}#sk-container-id-1 label.sk-toggleable__label {cursor: pointer;display: block;width: 100%;margin-bottom: 0;padding: 0.3em;box-sizing: border-box;text-align: center;}#sk-container-id-1 label.sk-toggleable__label-arrow:before {content: \"▸\";float: left;margin-right: 0.25em;color: #696969;}#sk-container-id-1 label.sk-toggleable__label-arrow:hover:before {color: black;}#sk-container-id-1 div.sk-estimator:hover label.sk-toggleable__label-arrow:before {color: black;}#sk-container-id-1 div.sk-toggleable__content {max-height: 0;max-width: 0;overflow: hidden;text-align: left;background-color: #f0f8ff;}#sk-container-id-1 div.sk-toggleable__content pre {margin: 0.2em;color: black;border-radius: 0.25em;background-color: #f0f8ff;}#sk-container-id-1 input.sk-toggleable__control:checked~div.sk-toggleable__content {max-height: 200px;max-width: 100%;overflow: auto;}#sk-container-id-1 input.sk-toggleable__control:checked~label.sk-toggleable__label-arrow:before {content: \"▾\";}#sk-container-id-1 div.sk-estimator input.sk-toggleable__control:checked~label.sk-toggleable__label {background-color: #d4ebff;}#sk-container-id-1 div.sk-label input.sk-toggleable__control:checked~label.sk-toggleable__label {background-color: #d4ebff;}#sk-container-id-1 input.sk-hidden--visually {border: 0;clip: rect(1px 1px 1px 1px);clip: rect(1px, 1px, 1px, 1px);height: 1px;margin: -1px;overflow: hidden;padding: 0;position: absolute;width: 1px;}#sk-container-id-1 div.sk-estimator {font-family: monospace;background-color: #f0f8ff;border: 1px dotted black;border-radius: 0.25em;box-sizing: border-box;margin-bottom: 0.5em;}#sk-container-id-1 div.sk-estimator:hover {background-color: #d4ebff;}#sk-container-id-1 div.sk-parallel-item::after {content: \"\";width: 100%;border-bottom: 1px solid gray;flex-grow: 1;}#sk-container-id-1 div.sk-label:hover label.sk-toggleable__label {background-color: #d4ebff;}#sk-container-id-1 div.sk-serial::before {content: \"\";position: absolute;border-left: 1px solid gray;box-sizing: border-box;top: 0;bottom: 0;left: 50%;z-index: 0;}#sk-container-id-1 div.sk-serial {display: flex;flex-direction: column;align-items: center;background-color: white;padding-right: 0.2em;padding-left: 0.2em;position: relative;}#sk-container-id-1 div.sk-item {position: relative;z-index: 1;}#sk-container-id-1 div.sk-parallel {display: flex;align-items: stretch;justify-content: center;background-color: white;position: relative;}#sk-container-id-1 div.sk-item::before, #sk-container-id-1 div.sk-parallel-item::before {content: \"\";position: absolute;border-left: 1px solid gray;box-sizing: border-box;top: 0;bottom: 0;left: 50%;z-index: -1;}#sk-container-id-1 div.sk-parallel-item {display: flex;flex-direction: column;z-index: 1;position: relative;background-color: white;}#sk-container-id-1 div.sk-parallel-item:first-child::after {align-self: flex-end;width: 50%;}#sk-container-id-1 div.sk-parallel-item:last-child::after {align-self: flex-start;width: 50%;}#sk-container-id-1 div.sk-parallel-item:only-child::after {width: 0;}#sk-container-id-1 div.sk-dashed-wrapped {border: 1px dashed gray;margin: 0 0.4em 0.5em 0.4em;box-sizing: border-box;padding-bottom: 0.4em;background-color: white;}#sk-container-id-1 div.sk-label label {font-family: monospace;font-weight: bold;display: inline-block;line-height: 1.2em;}#sk-container-id-1 div.sk-label-container {text-align: center;}#sk-container-id-1 div.sk-container {/* jupyter's `normalize.less` sets `[hidden] { display: none; }` but bootstrap.min.css set `[hidden] { display: none !important; }` so we also need the `!important` here to be able to override the default hidden behavior on the sphinx rendered scikit-learn.org. See: https://github.com/scikit-learn/scikit-learn/issues/21755 */display: inline-block !important;position: relative;}#sk-container-id-1 div.sk-text-repr-fallback {display: none;}</style><div id=\"sk-container-id-1\" class=\"sk-top-container\"><div class=\"sk-text-repr-fallback\"><pre>RandomizedSearchCV(cv=3,\n",
       "                   estimator=KerasRegressor(callbacks=[&lt;keras.callbacks.EarlyStopping object at 0x7f00ed852b90&gt;], model=&lt;function build_model at 0x7f00ee539080&gt;),\n",
       "                   param_distributions={&#x27;model__learning_rate&#x27;: [0.004479938333026118,\n",
       "                                                                 0.010026742036415225,\n",
       "                                                                 0.0005780703207538449,\n",
       "                                                                 0.0071418316450687835,\n",
       "                                                                 0.0049023479745224224,\n",
       "                                                                 0.004795070286442121,\n",
       "                                                                 0.01649582231127...\n",
       "                                                                 0.016593144198401487,\n",
       "                                                                 0.0012512097823778575,\n",
       "                                                                 0.0021517623599730555,\n",
       "                                                                 0.0020452561049876753,\n",
       "                                                                 0.0007739135658707072,\n",
       "                                                                 0.021243132248952096,\n",
       "                                                                 0.007697643098554799,\n",
       "                                                                 0.017057533935944922, ...],\n",
       "                                        &#x27;model__n_hidden&#x27;: [0, 1, 2, 3],\n",
       "                                        &#x27;model__n_neurons&#x27;: [1, 2, 3, 4, 5, 6,\n",
       "                                                             7, 8, 9, 10, 11,\n",
       "                                                             12, 13, 14, 15, 16,\n",
       "                                                             17, 18, 19, 20, 21,\n",
       "                                                             22, 23, 24, 25, 26,\n",
       "                                                             27, 28, 29, 30, ...],\n",
       "                                        &#x27;model__optimizer&#x27;: [&#x27;adam&#x27;, &#x27;sgd&#x27;,\n",
       "                                                             &#x27;nesterov&#x27;]},\n",
       "                   verbose=2)</pre><b>In a Jupyter environment, please rerun this cell to show the HTML representation or trust the notebook. <br />On GitHub, the HTML representation is unable to render, please try loading this page with nbviewer.org.</b></div><div class=\"sk-container\" hidden><div class=\"sk-item sk-dashed-wrapped\"><div class=\"sk-label-container\"><div class=\"sk-label sk-toggleable\"><input class=\"sk-toggleable__control sk-hidden--visually\" id=\"sk-estimator-id-1\" type=\"checkbox\" ><label for=\"sk-estimator-id-1\" class=\"sk-toggleable__label sk-toggleable__label-arrow\">RandomizedSearchCV</label><div class=\"sk-toggleable__content\"><pre>RandomizedSearchCV(cv=3,\n",
       "                   estimator=KerasRegressor(callbacks=[&lt;keras.callbacks.EarlyStopping object at 0x7f00ed852b90&gt;], model=&lt;function build_model at 0x7f00ee539080&gt;),\n",
       "                   param_distributions={&#x27;model__learning_rate&#x27;: [0.004479938333026118,\n",
       "                                                                 0.010026742036415225,\n",
       "                                                                 0.0005780703207538449,\n",
       "                                                                 0.0071418316450687835,\n",
       "                                                                 0.0049023479745224224,\n",
       "                                                                 0.004795070286442121,\n",
       "                                                                 0.01649582231127...\n",
       "                                                                 0.016593144198401487,\n",
       "                                                                 0.0012512097823778575,\n",
       "                                                                 0.0021517623599730555,\n",
       "                                                                 0.0020452561049876753,\n",
       "                                                                 0.0007739135658707072,\n",
       "                                                                 0.021243132248952096,\n",
       "                                                                 0.007697643098554799,\n",
       "                                                                 0.017057533935944922, ...],\n",
       "                                        &#x27;model__n_hidden&#x27;: [0, 1, 2, 3],\n",
       "                                        &#x27;model__n_neurons&#x27;: [1, 2, 3, 4, 5, 6,\n",
       "                                                             7, 8, 9, 10, 11,\n",
       "                                                             12, 13, 14, 15, 16,\n",
       "                                                             17, 18, 19, 20, 21,\n",
       "                                                             22, 23, 24, 25, 26,\n",
       "                                                             27, 28, 29, 30, ...],\n",
       "                                        &#x27;model__optimizer&#x27;: [&#x27;adam&#x27;, &#x27;sgd&#x27;,\n",
       "                                                             &#x27;nesterov&#x27;]},\n",
       "                   verbose=2)</pre></div></div></div><div class=\"sk-parallel\"><div class=\"sk-parallel-item\"><div class=\"sk-item\"><div class=\"sk-label-container\"><div class=\"sk-label sk-toggleable\"><input class=\"sk-toggleable__control sk-hidden--visually\" id=\"sk-estimator-id-2\" type=\"checkbox\" ><label for=\"sk-estimator-id-2\" class=\"sk-toggleable__label sk-toggleable__label-arrow\">estimator: KerasRegressor</label><div class=\"sk-toggleable__content\"><pre>KerasRegressor(\n",
       "\tmodel=&lt;function build_model at 0x7f00ee539080&gt;\n",
       "\tbuild_fn=None\n",
       "\twarm_start=False\n",
       "\trandom_state=None\n",
       "\toptimizer=rmsprop\n",
       "\tloss=None\n",
       "\tmetrics=None\n",
       "\tbatch_size=None\n",
       "\tvalidation_batch_size=None\n",
       "\tverbose=1\n",
       "\tcallbacks=[&lt;keras.callbacks.EarlyStopping object at 0x7f00ed852b90&gt;]\n",
       "\tvalidation_split=0.0\n",
       "\tshuffle=True\n",
       "\trun_eagerly=False\n",
       "\tepochs=1\n",
       ")</pre></div></div></div><div class=\"sk-serial\"><div class=\"sk-item\"><div class=\"sk-estimator sk-toggleable\"><input class=\"sk-toggleable__control sk-hidden--visually\" id=\"sk-estimator-id-3\" type=\"checkbox\" ><label for=\"sk-estimator-id-3\" class=\"sk-toggleable__label sk-toggleable__label-arrow\">KerasRegressor</label><div class=\"sk-toggleable__content\"><pre>KerasRegressor(\n",
       "\tmodel=&lt;function build_model at 0x7f00ee539080&gt;\n",
       "\tbuild_fn=None\n",
       "\twarm_start=False\n",
       "\trandom_state=None\n",
       "\toptimizer=rmsprop\n",
       "\tloss=None\n",
       "\tmetrics=None\n",
       "\tbatch_size=None\n",
       "\tvalidation_batch_size=None\n",
       "\tverbose=1\n",
       "\tcallbacks=[&lt;keras.callbacks.EarlyStopping object at 0x7f00ed852b90&gt;]\n",
       "\tvalidation_split=0.0\n",
       "\tshuffle=True\n",
       "\trun_eagerly=False\n",
       "\tepochs=1\n",
       ")</pre></div></div></div></div></div></div></div></div></div></div>"
      ],
      "text/plain": [
       "RandomizedSearchCV(cv=3,\n",
       "                   estimator=KerasRegressor(callbacks=[<keras.callbacks.EarlyStopping object at 0x7f00ed852b90>], model=<function build_model at 0x7f00ee539080>),\n",
       "                   param_distributions={'model__learning_rate': [0.004479938333026118,\n",
       "                                                                 0.010026742036415225,\n",
       "                                                                 0.0005780703207538449,\n",
       "                                                                 0.0071418316450687835,\n",
       "                                                                 0.0049023479745224224,\n",
       "                                                                 0.004795070286442121,\n",
       "                                                                 0.01649582231127...\n",
       "                                                                 0.016593144198401487,\n",
       "                                                                 0.0012512097823778575,\n",
       "                                                                 0.0021517623599730555,\n",
       "                                                                 0.0020452561049876753,\n",
       "                                                                 0.0007739135658707072,\n",
       "                                                                 0.021243132248952096,\n",
       "                                                                 0.007697643098554799,\n",
       "                                                                 0.017057533935944922, ...],\n",
       "                                        'model__n_hidden': [0, 1, 2, 3],\n",
       "                                        'model__n_neurons': [1, 2, 3, 4, 5, 6,\n",
       "                                                             7, 8, 9, 10, 11,\n",
       "                                                             12, 13, 14, 15, 16,\n",
       "                                                             17, 18, 19, 20, 21,\n",
       "                                                             22, 23, 24, 25, 26,\n",
       "                                                             27, 28, 29, 30, ...],\n",
       "                                        'model__optimizer': ['adam', 'sgd',\n",
       "                                                             'nesterov']},\n",
       "                   verbose=2)"
      ]
     },
     "execution_count": 6,
     "metadata": {},
     "output_type": "execute_result"
    }
   ],
   "source": [
    "rnd_search_cv = RandomizedSearchCV(keras_reg, param_distribs, n_iter=10, cv=3, verbose=2)\n",
    "rnd_search_cv.fit(X_train, y_train, epochs=100, validation_data=(X_valid, y_valid), verbose=0)"
   ]
  },
  {
   "attachments": {},
   "cell_type": "markdown",
   "metadata": {},
   "source": [
    "Save to pkl"
   ]
  },
  {
   "cell_type": "code",
   "execution_count": 7,
   "metadata": {},
   "outputs": [
    {
     "data": {
      "text/html": [
       "<style>#sk-container-id-2 {color: black;background-color: white;}#sk-container-id-2 pre{padding: 0;}#sk-container-id-2 div.sk-toggleable {background-color: white;}#sk-container-id-2 label.sk-toggleable__label {cursor: pointer;display: block;width: 100%;margin-bottom: 0;padding: 0.3em;box-sizing: border-box;text-align: center;}#sk-container-id-2 label.sk-toggleable__label-arrow:before {content: \"▸\";float: left;margin-right: 0.25em;color: #696969;}#sk-container-id-2 label.sk-toggleable__label-arrow:hover:before {color: black;}#sk-container-id-2 div.sk-estimator:hover label.sk-toggleable__label-arrow:before {color: black;}#sk-container-id-2 div.sk-toggleable__content {max-height: 0;max-width: 0;overflow: hidden;text-align: left;background-color: #f0f8ff;}#sk-container-id-2 div.sk-toggleable__content pre {margin: 0.2em;color: black;border-radius: 0.25em;background-color: #f0f8ff;}#sk-container-id-2 input.sk-toggleable__control:checked~div.sk-toggleable__content {max-height: 200px;max-width: 100%;overflow: auto;}#sk-container-id-2 input.sk-toggleable__control:checked~label.sk-toggleable__label-arrow:before {content: \"▾\";}#sk-container-id-2 div.sk-estimator input.sk-toggleable__control:checked~label.sk-toggleable__label {background-color: #d4ebff;}#sk-container-id-2 div.sk-label input.sk-toggleable__control:checked~label.sk-toggleable__label {background-color: #d4ebff;}#sk-container-id-2 input.sk-hidden--visually {border: 0;clip: rect(1px 1px 1px 1px);clip: rect(1px, 1px, 1px, 1px);height: 1px;margin: -1px;overflow: hidden;padding: 0;position: absolute;width: 1px;}#sk-container-id-2 div.sk-estimator {font-family: monospace;background-color: #f0f8ff;border: 1px dotted black;border-radius: 0.25em;box-sizing: border-box;margin-bottom: 0.5em;}#sk-container-id-2 div.sk-estimator:hover {background-color: #d4ebff;}#sk-container-id-2 div.sk-parallel-item::after {content: \"\";width: 100%;border-bottom: 1px solid gray;flex-grow: 1;}#sk-container-id-2 div.sk-label:hover label.sk-toggleable__label {background-color: #d4ebff;}#sk-container-id-2 div.sk-serial::before {content: \"\";position: absolute;border-left: 1px solid gray;box-sizing: border-box;top: 0;bottom: 0;left: 50%;z-index: 0;}#sk-container-id-2 div.sk-serial {display: flex;flex-direction: column;align-items: center;background-color: white;padding-right: 0.2em;padding-left: 0.2em;position: relative;}#sk-container-id-2 div.sk-item {position: relative;z-index: 1;}#sk-container-id-2 div.sk-parallel {display: flex;align-items: stretch;justify-content: center;background-color: white;position: relative;}#sk-container-id-2 div.sk-item::before, #sk-container-id-2 div.sk-parallel-item::before {content: \"\";position: absolute;border-left: 1px solid gray;box-sizing: border-box;top: 0;bottom: 0;left: 50%;z-index: -1;}#sk-container-id-2 div.sk-parallel-item {display: flex;flex-direction: column;z-index: 1;position: relative;background-color: white;}#sk-container-id-2 div.sk-parallel-item:first-child::after {align-self: flex-end;width: 50%;}#sk-container-id-2 div.sk-parallel-item:last-child::after {align-self: flex-start;width: 50%;}#sk-container-id-2 div.sk-parallel-item:only-child::after {width: 0;}#sk-container-id-2 div.sk-dashed-wrapped {border: 1px dashed gray;margin: 0 0.4em 0.5em 0.4em;box-sizing: border-box;padding-bottom: 0.4em;background-color: white;}#sk-container-id-2 div.sk-label label {font-family: monospace;font-weight: bold;display: inline-block;line-height: 1.2em;}#sk-container-id-2 div.sk-label-container {text-align: center;}#sk-container-id-2 div.sk-container {/* jupyter's `normalize.less` sets `[hidden] { display: none; }` but bootstrap.min.css set `[hidden] { display: none !important; }` so we also need the `!important` here to be able to override the default hidden behavior on the sphinx rendered scikit-learn.org. See: https://github.com/scikit-learn/scikit-learn/issues/21755 */display: inline-block !important;position: relative;}#sk-container-id-2 div.sk-text-repr-fallback {display: none;}</style><div id=\"sk-container-id-2\" class=\"sk-top-container\"><div class=\"sk-text-repr-fallback\"><pre>RandomizedSearchCV(cv=3,\n",
       "                   estimator=KerasRegressor(callbacks=[&lt;keras.callbacks.EarlyStopping object at 0x7f00ed852b90&gt;], model=&lt;function build_model at 0x7f00ee539080&gt;),\n",
       "                   param_distributions={&#x27;model__learning_rate&#x27;: [0.004479938333026118,\n",
       "                                                                 0.010026742036415225,\n",
       "                                                                 0.0005780703207538449,\n",
       "                                                                 0.0071418316450687835,\n",
       "                                                                 0.0049023479745224224,\n",
       "                                                                 0.004795070286442121,\n",
       "                                                                 0.01649582231127...\n",
       "                                                                 0.016593144198401487,\n",
       "                                                                 0.0012512097823778575,\n",
       "                                                                 0.0021517623599730555,\n",
       "                                                                 0.0020452561049876753,\n",
       "                                                                 0.0007739135658707072,\n",
       "                                                                 0.021243132248952096,\n",
       "                                                                 0.007697643098554799,\n",
       "                                                                 0.017057533935944922, ...],\n",
       "                                        &#x27;model__n_hidden&#x27;: [0, 1, 2, 3],\n",
       "                                        &#x27;model__n_neurons&#x27;: [1, 2, 3, 4, 5, 6,\n",
       "                                                             7, 8, 9, 10, 11,\n",
       "                                                             12, 13, 14, 15, 16,\n",
       "                                                             17, 18, 19, 20, 21,\n",
       "                                                             22, 23, 24, 25, 26,\n",
       "                                                             27, 28, 29, 30, ...],\n",
       "                                        &#x27;model__optimizer&#x27;: [&#x27;adam&#x27;, &#x27;sgd&#x27;,\n",
       "                                                             &#x27;nesterov&#x27;]},\n",
       "                   verbose=2)</pre><b>In a Jupyter environment, please rerun this cell to show the HTML representation or trust the notebook. <br />On GitHub, the HTML representation is unable to render, please try loading this page with nbviewer.org.</b></div><div class=\"sk-container\" hidden><div class=\"sk-item sk-dashed-wrapped\"><div class=\"sk-label-container\"><div class=\"sk-label sk-toggleable\"><input class=\"sk-toggleable__control sk-hidden--visually\" id=\"sk-estimator-id-4\" type=\"checkbox\" ><label for=\"sk-estimator-id-4\" class=\"sk-toggleable__label sk-toggleable__label-arrow\">RandomizedSearchCV</label><div class=\"sk-toggleable__content\"><pre>RandomizedSearchCV(cv=3,\n",
       "                   estimator=KerasRegressor(callbacks=[&lt;keras.callbacks.EarlyStopping object at 0x7f00ed852b90&gt;], model=&lt;function build_model at 0x7f00ee539080&gt;),\n",
       "                   param_distributions={&#x27;model__learning_rate&#x27;: [0.004479938333026118,\n",
       "                                                                 0.010026742036415225,\n",
       "                                                                 0.0005780703207538449,\n",
       "                                                                 0.0071418316450687835,\n",
       "                                                                 0.0049023479745224224,\n",
       "                                                                 0.004795070286442121,\n",
       "                                                                 0.01649582231127...\n",
       "                                                                 0.016593144198401487,\n",
       "                                                                 0.0012512097823778575,\n",
       "                                                                 0.0021517623599730555,\n",
       "                                                                 0.0020452561049876753,\n",
       "                                                                 0.0007739135658707072,\n",
       "                                                                 0.021243132248952096,\n",
       "                                                                 0.007697643098554799,\n",
       "                                                                 0.017057533935944922, ...],\n",
       "                                        &#x27;model__n_hidden&#x27;: [0, 1, 2, 3],\n",
       "                                        &#x27;model__n_neurons&#x27;: [1, 2, 3, 4, 5, 6,\n",
       "                                                             7, 8, 9, 10, 11,\n",
       "                                                             12, 13, 14, 15, 16,\n",
       "                                                             17, 18, 19, 20, 21,\n",
       "                                                             22, 23, 24, 25, 26,\n",
       "                                                             27, 28, 29, 30, ...],\n",
       "                                        &#x27;model__optimizer&#x27;: [&#x27;adam&#x27;, &#x27;sgd&#x27;,\n",
       "                                                             &#x27;nesterov&#x27;]},\n",
       "                   verbose=2)</pre></div></div></div><div class=\"sk-parallel\"><div class=\"sk-parallel-item\"><div class=\"sk-item\"><div class=\"sk-label-container\"><div class=\"sk-label sk-toggleable\"><input class=\"sk-toggleable__control sk-hidden--visually\" id=\"sk-estimator-id-5\" type=\"checkbox\" ><label for=\"sk-estimator-id-5\" class=\"sk-toggleable__label sk-toggleable__label-arrow\">estimator: KerasRegressor</label><div class=\"sk-toggleable__content\"><pre>KerasRegressor(\n",
       "\tmodel=&lt;function build_model at 0x7f00ee539080&gt;\n",
       "\tbuild_fn=None\n",
       "\twarm_start=False\n",
       "\trandom_state=None\n",
       "\toptimizer=rmsprop\n",
       "\tloss=None\n",
       "\tmetrics=None\n",
       "\tbatch_size=None\n",
       "\tvalidation_batch_size=None\n",
       "\tverbose=1\n",
       "\tcallbacks=[&lt;keras.callbacks.EarlyStopping object at 0x7f00ed852b90&gt;]\n",
       "\tvalidation_split=0.0\n",
       "\tshuffle=True\n",
       "\trun_eagerly=False\n",
       "\tepochs=1\n",
       ")</pre></div></div></div><div class=\"sk-serial\"><div class=\"sk-item\"><div class=\"sk-estimator sk-toggleable\"><input class=\"sk-toggleable__control sk-hidden--visually\" id=\"sk-estimator-id-6\" type=\"checkbox\" ><label for=\"sk-estimator-id-6\" class=\"sk-toggleable__label sk-toggleable__label-arrow\">KerasRegressor</label><div class=\"sk-toggleable__content\"><pre>KerasRegressor(\n",
       "\tmodel=&lt;function build_model at 0x7f00ee539080&gt;\n",
       "\tbuild_fn=None\n",
       "\twarm_start=False\n",
       "\trandom_state=None\n",
       "\toptimizer=rmsprop\n",
       "\tloss=None\n",
       "\tmetrics=None\n",
       "\tbatch_size=None\n",
       "\tvalidation_batch_size=None\n",
       "\tverbose=1\n",
       "\tcallbacks=[&lt;keras.callbacks.EarlyStopping object at 0x7f00ed852b90&gt;]\n",
       "\tvalidation_split=0.0\n",
       "\tshuffle=True\n",
       "\trun_eagerly=False\n",
       "\tepochs=1\n",
       ")</pre></div></div></div></div></div></div></div></div></div></div>"
      ],
      "text/plain": [
       "RandomizedSearchCV(cv=3,\n",
       "                   estimator=KerasRegressor(callbacks=[<keras.callbacks.EarlyStopping object at 0x7f00ed852b90>], model=<function build_model at 0x7f00ee539080>),\n",
       "                   param_distributions={'model__learning_rate': [0.004479938333026118,\n",
       "                                                                 0.010026742036415225,\n",
       "                                                                 0.0005780703207538449,\n",
       "                                                                 0.0071418316450687835,\n",
       "                                                                 0.0049023479745224224,\n",
       "                                                                 0.004795070286442121,\n",
       "                                                                 0.01649582231127...\n",
       "                                                                 0.016593144198401487,\n",
       "                                                                 0.0012512097823778575,\n",
       "                                                                 0.0021517623599730555,\n",
       "                                                                 0.0020452561049876753,\n",
       "                                                                 0.0007739135658707072,\n",
       "                                                                 0.021243132248952096,\n",
       "                                                                 0.007697643098554799,\n",
       "                                                                 0.017057533935944922, ...],\n",
       "                                        'model__n_hidden': [0, 1, 2, 3],\n",
       "                                        'model__n_neurons': [1, 2, 3, 4, 5, 6,\n",
       "                                                             7, 8, 9, 10, 11,\n",
       "                                                             12, 13, 14, 15, 16,\n",
       "                                                             17, 18, 19, 20, 21,\n",
       "                                                             22, 23, 24, 25, 26,\n",
       "                                                             27, 28, 29, 30, ...],\n",
       "                                        'model__optimizer': ['adam', 'sgd',\n",
       "                                                             'nesterov']},\n",
       "                   verbose=2)"
      ]
     },
     "execution_count": 7,
     "metadata": {},
     "output_type": "execute_result"
    }
   ],
   "source": [
    "rnd_search_cv"
   ]
  },
  {
   "cell_type": "code",
   "execution_count": 8,
   "metadata": {},
   "outputs": [
    {
     "name": "stderr",
     "output_type": "stream",
     "text": [
      "WARNING:absl:Found untraced functions such as _update_step_xla while saving (showing 1 of 1). These functions will not be directly callable after loading.\n"
     ]
    },
    {
     "name": "stdout",
     "output_type": "stream",
     "text": [
      "INFO:tensorflow:Assets written to: ram:///tmp/tmpl8o4qfa7/assets\n"
     ]
    },
    {
     "name": "stderr",
     "output_type": "stream",
     "text": [
      "INFO:tensorflow:Assets written to: ram:///tmp/tmpl8o4qfa7/assets\n"
     ]
    },
    {
     "ename": "AttributeError",
     "evalue": "'Adam' object has no attribute 'get_weights'",
     "output_type": "error",
     "traceback": [
      "\u001b[0;31m---------------------------------------------------------------------------\u001b[0m",
      "\u001b[0;31mAttributeError\u001b[0m                            Traceback (most recent call last)",
      "Cell \u001b[0;32mIn[8], line 5\u001b[0m\n\u001b[1;32m      2\u001b[0m     pickle\u001b[39m.\u001b[39mdump(rnd_search_cv\u001b[39m.\u001b[39mbest_params_, f)\n\u001b[1;32m      4\u001b[0m \u001b[39mwith\u001b[39;00m \u001b[39mopen\u001b[39m(\u001b[39m'\u001b[39m\u001b[39mrnd_search_scikeras.pkl\u001b[39m\u001b[39m'\u001b[39m, \u001b[39m'\u001b[39m\u001b[39mwb\u001b[39m\u001b[39m'\u001b[39m) \u001b[39mas\u001b[39;00m f:\n\u001b[0;32m----> 5\u001b[0m     pickle\u001b[39m.\u001b[39;49mdump(rnd_search_cv, f)\n",
      "File \u001b[0;32m~/.local/lib/python3.11/site-packages/scikeras/_saving_utils.py:108\u001b[0m, in \u001b[0;36mpack_keras_model\u001b[0;34m(model)\u001b[0m\n\u001b[1;32m    106\u001b[0m optimizer_weights \u001b[39m=\u001b[39m \u001b[39mNone\u001b[39;00m\n\u001b[1;32m    107\u001b[0m \u001b[39mif\u001b[39;00m model\u001b[39m.\u001b[39moptimizer \u001b[39mis\u001b[39;00m \u001b[39mnot\u001b[39;00m \u001b[39mNone\u001b[39;00m:\n\u001b[0;32m--> 108\u001b[0m     optimizer_weights \u001b[39m=\u001b[39m model\u001b[39m.\u001b[39;49moptimizer\u001b[39m.\u001b[39;49mget_weights()\n\u001b[1;32m    109\u001b[0m model_bytes \u001b[39m=\u001b[39m np\u001b[39m.\u001b[39masarray(\u001b[39mmemoryview\u001b[39m(b\u001b[39m.\u001b[39mread()))\n\u001b[1;32m    110\u001b[0m \u001b[39mreturn\u001b[39;00m (\n\u001b[1;32m    111\u001b[0m     unpack_keras_model,\n\u001b[1;32m    112\u001b[0m     (model_bytes, optimizer_weights),\n\u001b[1;32m    113\u001b[0m )\n",
      "\u001b[0;31mAttributeError\u001b[0m: 'Adam' object has no attribute 'get_weights'"
     ]
    }
   ],
   "source": [
    "with open('rnd_search_params.pkl', 'wb') as f:\n",
    "    pickle.dump(rnd_search_cv.best_params_, f)\n",
    "    \n",
    "with open('rnd_search_scikeras.pkl', 'wb') as f:\n",
    "    pickle.dump(rnd_search_cv, f)"
   ]
  },
  {
   "attachments": {},
   "cell_type": "markdown",
   "metadata": {},
   "source": [
    "## Keras Tuner"
   ]
  },
  {
   "cell_type": "code",
   "execution_count": 9,
   "metadata": {},
   "outputs": [],
   "source": [
    "\n",
    "def build_model(hp):\n",
    "    n_hidden = hp.Int('n_hidden', min_value=0, max_value=3, default=2)\n",
    "    n_neurons = hp.Int('n_neurons', min_value=1, max_value=100, default=30)\n",
    "    learning_rate = hp.Choice('learning_rate', values=[1e-3, 3e-3, 1e-2, 3e-2])\n",
    "    optimizer = hp.Choice('optimizer', values=['adam', 'sgd', 'nesterov'])\n",
    "\n",
    "    model = tf.keras.models.Sequential()\n",
    "    model.add(tf.keras.layers.InputLayer(input_shape=X_train[0].shape))\n",
    "\n",
    "    for layer in range(n_hidden):\n",
    "        model.add(tf.keras.layers.Dense(n_neurons, activation=\"relu\"))\n",
    "    model.add(tf.keras.layers.Dense(1))\n",
    "\n",
    "    if optimizer == \"adam\":\n",
    "        optimizer = tf.keras.optimizers.Adam(learning_rate=learning_rate)\n",
    "    elif optimizer == \"sgd\":\n",
    "        optimizer = tf.keras.optimizers.SGD(learning_rate=learning_rate)\n",
    "    elif optimizer == \"nesterov\":\n",
    "        optimizer = tf.keras.optimizers.SGD(learning_rate=learning_rate, nesterov=True)\n",
    "\n",
    "    model.compile(loss=\"mse\", optimizer=optimizer, metrics=[\"mse\"])\n",
    "    return model\n"
   ]
  },
  {
   "attachments": {},
   "cell_type": "markdown",
   "metadata": {},
   "source": [
    "## Create tuner"
   ]
  },
  {
   "cell_type": "code",
   "execution_count": 10,
   "metadata": {},
   "outputs": [],
   "source": [
    "random_search_tuner = kt.RandomSearch(\n",
    "build_model, objective=\"val_mse\", max_trials=10, overwrite=True,\n",
    "directory=\"my_california_housing\", project_name=\"my_rnd_search\", seed=42)"
   ]
  },
  {
   "attachments": {},
   "cell_type": "markdown",
   "metadata": {},
   "source": [
    "## Callback TensorBoard"
   ]
  },
  {
   "cell_type": "code",
   "execution_count": 11,
   "metadata": {},
   "outputs": [],
   "source": [
    "root_logdir = os.path.join(random_search_tuner.project_dir, 'tensorboard')\n",
    "tb = tf.keras.callbacks.TensorBoard(root_logdir)"
   ]
  },
  {
   "attachments": {},
   "cell_type": "markdown",
   "metadata": {},
   "source": [
    "## Run search"
   ]
  },
  {
   "cell_type": "code",
   "execution_count": 12,
   "metadata": {},
   "outputs": [
    {
     "name": "stdout",
     "output_type": "stream",
     "text": [
      "Trial 10 Complete [00h 00m 13s]\n",
      "val_mse: 0.36270666122436523\n",
      "\n",
      "Best val_mse So Far: 0.27389615774154663\n",
      "Total elapsed time: 00h 02m 29s\n",
      "INFO:tensorflow:Oracle triggered exit\n"
     ]
    },
    {
     "name": "stderr",
     "output_type": "stream",
     "text": [
      "INFO:tensorflow:Oracle triggered exit\n"
     ]
    },
    {
     "name": "stdout",
     "output_type": "stream",
     "text": [
      "Results summary\n",
      "Results in my_california_housing/my_rnd_search\n",
      "Showing 10 best trials\n",
      "Objective(name=\"val_mse\", direction=\"min\")\n",
      "\n",
      "Trial 01 summary\n",
      "Hyperparameters:\n",
      "n_hidden: 3\n",
      "n_neurons: 36\n",
      "learning_rate: 0.01\n",
      "optimizer: adam\n",
      "Score: 0.27389615774154663\n",
      "\n",
      "Trial 07 summary\n",
      "Hyperparameters:\n",
      "n_hidden: 3\n",
      "n_neurons: 33\n",
      "learning_rate: 0.001\n",
      "optimizer: adam\n",
      "Score: 0.29524073004722595\n",
      "\n",
      "Trial 03 summary\n",
      "Hyperparameters:\n",
      "n_hidden: 3\n",
      "n_neurons: 10\n",
      "learning_rate: 0.03\n",
      "optimizer: adam\n",
      "Score: 0.3073197901248932\n",
      "\n",
      "Trial 02 summary\n",
      "Hyperparameters:\n",
      "n_hidden: 1\n",
      "n_neurons: 25\n",
      "learning_rate: 0.03\n",
      "optimizer: sgd\n",
      "Score: 0.33155351877212524\n",
      "\n",
      "Trial 05 summary\n",
      "Hyperparameters:\n",
      "n_hidden: 3\n",
      "n_neurons: 45\n",
      "learning_rate: 0.003\n",
      "optimizer: sgd\n",
      "Score: 0.3415594696998596\n",
      "\n",
      "Trial 08 summary\n",
      "Hyperparameters:\n",
      "n_hidden: 3\n",
      "n_neurons: 46\n",
      "learning_rate: 0.003\n",
      "optimizer: nesterov\n",
      "Score: 0.35678914189338684\n",
      "\n",
      "Trial 09 summary\n",
      "Hyperparameters:\n",
      "n_hidden: 3\n",
      "n_neurons: 15\n",
      "learning_rate: 0.003\n",
      "optimizer: sgd\n",
      "Score: 0.36270666122436523\n",
      "\n",
      "Trial 04 summary\n",
      "Hyperparameters:\n",
      "n_hidden: 2\n",
      "n_neurons: 23\n",
      "learning_rate: 0.003\n",
      "optimizer: sgd\n",
      "Score: 0.3653470575809479\n",
      "\n",
      "Trial 00 summary\n",
      "Hyperparameters:\n",
      "n_hidden: 2\n",
      "n_neurons: 4\n",
      "learning_rate: 0.003\n",
      "optimizer: adam\n",
      "Score: 0.3687277138233185\n",
      "\n",
      "Trial 06 summary\n",
      "Hyperparameters:\n",
      "n_hidden: 0\n",
      "n_neurons: 8\n",
      "learning_rate: 0.01\n",
      "optimizer: nesterov\n",
      "Score: 6.985795974731445\n"
     ]
    }
   ],
   "source": [
    "random_search_tuner.search(X_train, y_train, epochs=100, validation_data=(X_valid, y_valid), callbacks=[tb, early_stopping])\n",
    "\n",
    "random_search_tuner.results_summary()\n"
   ]
  },
  {
   "cell_type": "code",
   "execution_count": 14,
   "metadata": {},
   "outputs": [
    {
     "name": "stdout",
     "output_type": "stream",
     "text": [
      "WARNING:tensorflow:Detecting that an object or model or tf.train.Checkpoint is being deleted with unrestored values. See the following logs for the specific values in question. To silence these warnings, use `status.expect_partial()`. See https://www.tensorflow.org/api_docs/python/tf/train/Checkpoint#restorefor details about the status object returned by the restore function.\n"
     ]
    },
    {
     "name": "stderr",
     "output_type": "stream",
     "text": [
      "WARNING:tensorflow:Detecting that an object or model or tf.train.Checkpoint is being deleted with unrestored values. See the following logs for the specific values in question. To silence these warnings, use `status.expect_partial()`. See https://www.tensorflow.org/api_docs/python/tf/train/Checkpoint#restorefor details about the status object returned by the restore function.\n"
     ]
    },
    {
     "name": "stdout",
     "output_type": "stream",
     "text": [
      "WARNING:tensorflow:Value in checkpoint could not be found in the restored object: (root).optimizer._variables.1\n"
     ]
    },
    {
     "name": "stderr",
     "output_type": "stream",
     "text": [
      "WARNING:tensorflow:Value in checkpoint could not be found in the restored object: (root).optimizer._variables.1\n"
     ]
    },
    {
     "name": "stdout",
     "output_type": "stream",
     "text": [
      "WARNING:tensorflow:Value in checkpoint could not be found in the restored object: (root).optimizer._variables.2\n"
     ]
    },
    {
     "name": "stderr",
     "output_type": "stream",
     "text": [
      "WARNING:tensorflow:Value in checkpoint could not be found in the restored object: (root).optimizer._variables.2\n"
     ]
    },
    {
     "name": "stdout",
     "output_type": "stream",
     "text": [
      "WARNING:tensorflow:Value in checkpoint could not be found in the restored object: (root).optimizer._variables.3\n"
     ]
    },
    {
     "name": "stderr",
     "output_type": "stream",
     "text": [
      "WARNING:tensorflow:Value in checkpoint could not be found in the restored object: (root).optimizer._variables.3\n"
     ]
    },
    {
     "name": "stdout",
     "output_type": "stream",
     "text": [
      "WARNING:tensorflow:Value in checkpoint could not be found in the restored object: (root).optimizer._variables.4\n"
     ]
    },
    {
     "name": "stderr",
     "output_type": "stream",
     "text": [
      "WARNING:tensorflow:Value in checkpoint could not be found in the restored object: (root).optimizer._variables.4\n"
     ]
    },
    {
     "name": "stdout",
     "output_type": "stream",
     "text": [
      "WARNING:tensorflow:Value in checkpoint could not be found in the restored object: (root).optimizer._variables.5\n"
     ]
    },
    {
     "name": "stderr",
     "output_type": "stream",
     "text": [
      "WARNING:tensorflow:Value in checkpoint could not be found in the restored object: (root).optimizer._variables.5\n"
     ]
    },
    {
     "name": "stdout",
     "output_type": "stream",
     "text": [
      "WARNING:tensorflow:Value in checkpoint could not be found in the restored object: (root).optimizer._variables.6\n"
     ]
    },
    {
     "name": "stderr",
     "output_type": "stream",
     "text": [
      "WARNING:tensorflow:Value in checkpoint could not be found in the restored object: (root).optimizer._variables.6\n"
     ]
    },
    {
     "name": "stdout",
     "output_type": "stream",
     "text": [
      "WARNING:tensorflow:Value in checkpoint could not be found in the restored object: (root).optimizer._variables.7\n"
     ]
    },
    {
     "name": "stderr",
     "output_type": "stream",
     "text": [
      "WARNING:tensorflow:Value in checkpoint could not be found in the restored object: (root).optimizer._variables.7\n"
     ]
    },
    {
     "name": "stdout",
     "output_type": "stream",
     "text": [
      "WARNING:tensorflow:Value in checkpoint could not be found in the restored object: (root).optimizer._variables.8\n"
     ]
    },
    {
     "name": "stderr",
     "output_type": "stream",
     "text": [
      "WARNING:tensorflow:Value in checkpoint could not be found in the restored object: (root).optimizer._variables.8\n"
     ]
    },
    {
     "name": "stdout",
     "output_type": "stream",
     "text": [
      "WARNING:tensorflow:Value in checkpoint could not be found in the restored object: (root).optimizer._variables.9\n"
     ]
    },
    {
     "name": "stderr",
     "output_type": "stream",
     "text": [
      "WARNING:tensorflow:Value in checkpoint could not be found in the restored object: (root).optimizer._variables.9\n"
     ]
    },
    {
     "name": "stdout",
     "output_type": "stream",
     "text": [
      "WARNING:tensorflow:Value in checkpoint could not be found in the restored object: (root).optimizer._variables.10\n"
     ]
    },
    {
     "name": "stderr",
     "output_type": "stream",
     "text": [
      "WARNING:tensorflow:Value in checkpoint could not be found in the restored object: (root).optimizer._variables.10\n"
     ]
    },
    {
     "name": "stdout",
     "output_type": "stream",
     "text": [
      "WARNING:tensorflow:Value in checkpoint could not be found in the restored object: (root).optimizer._variables.11\n"
     ]
    },
    {
     "name": "stderr",
     "output_type": "stream",
     "text": [
      "WARNING:tensorflow:Value in checkpoint could not be found in the restored object: (root).optimizer._variables.11\n"
     ]
    },
    {
     "name": "stdout",
     "output_type": "stream",
     "text": [
      "WARNING:tensorflow:Value in checkpoint could not be found in the restored object: (root).optimizer._variables.12\n"
     ]
    },
    {
     "name": "stderr",
     "output_type": "stream",
     "text": [
      "WARNING:tensorflow:Value in checkpoint could not be found in the restored object: (root).optimizer._variables.12\n"
     ]
    },
    {
     "name": "stdout",
     "output_type": "stream",
     "text": [
      "WARNING:tensorflow:Value in checkpoint could not be found in the restored object: (root).optimizer._variables.13\n"
     ]
    },
    {
     "name": "stderr",
     "output_type": "stream",
     "text": [
      "WARNING:tensorflow:Value in checkpoint could not be found in the restored object: (root).optimizer._variables.13\n"
     ]
    },
    {
     "name": "stdout",
     "output_type": "stream",
     "text": [
      "WARNING:tensorflow:Value in checkpoint could not be found in the restored object: (root).optimizer._variables.14\n"
     ]
    },
    {
     "name": "stderr",
     "output_type": "stream",
     "text": [
      "WARNING:tensorflow:Value in checkpoint could not be found in the restored object: (root).optimizer._variables.14\n"
     ]
    },
    {
     "name": "stdout",
     "output_type": "stream",
     "text": [
      "WARNING:tensorflow:Value in checkpoint could not be found in the restored object: (root).optimizer._variables.15\n"
     ]
    },
    {
     "name": "stderr",
     "output_type": "stream",
     "text": [
      "WARNING:tensorflow:Value in checkpoint could not be found in the restored object: (root).optimizer._variables.15\n"
     ]
    },
    {
     "name": "stdout",
     "output_type": "stream",
     "text": [
      "WARNING:tensorflow:Value in checkpoint could not be found in the restored object: (root).optimizer._variables.16\n"
     ]
    },
    {
     "name": "stderr",
     "output_type": "stream",
     "text": [
      "WARNING:tensorflow:Value in checkpoint could not be found in the restored object: (root).optimizer._variables.16\n"
     ]
    }
   ],
   "source": [
    "with open('kt_search_params.pkl', 'wb') as f:\n",
    "    pickle.dump(random_search_tuner.get_best_hyperparameters()[0].values, f)\n",
    "\n",
    "random_search_tuner.get_best_models(num_models=1)[0].save('kt_best_model.h5')\n"
   ]
  }
 ],
 "metadata": {
  "kernelspec": {
   "display_name": "ml",
   "language": "python",
   "name": "python3"
  },
  "language_info": {
   "codemirror_mode": {
    "name": "ipython",
    "version": 3
   },
   "file_extension": ".py",
   "mimetype": "text/x-python",
   "name": "python",
   "nbconvert_exporter": "python",
   "pygments_lexer": "ipython3",
   "version": "3.11.3"
  },
  "orig_nbformat": 4
 },
 "nbformat": 4,
 "nbformat_minor": 2
}
