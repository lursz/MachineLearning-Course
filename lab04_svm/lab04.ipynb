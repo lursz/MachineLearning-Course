{
 "cells": [
  {
   "cell_type": "code",
   "execution_count": 173,
   "metadata": {},
   "outputs": [],
   "source": [
    "import numpy as np\n",
    "from sklearn import datasets\n",
    "from sklearn.pipeline import Pipeline\n",
    "from sklearn.preprocessing import StandardScaler\n",
    "from sklearn.svm import LinearSVC\n",
    "from sklearn.model_selection import train_test_split\n",
    "from sklearn.metrics import accuracy_score\n",
    "import pickle"
   ]
  },
  {
   "cell_type": "code",
   "execution_count": 174,
   "metadata": {},
   "outputs": [
    {
     "name": "stdout",
     "output_type": "stream",
     "text": [
      "(569, 30)\n",
      "Index(['mean radius', 'mean texture', 'mean perimeter', 'mean area',\n",
      "       'mean smoothness', 'mean compactness', 'mean concavity',\n",
      "       'mean concave points', 'mean symmetry', 'mean fractal dimension',\n",
      "       'radius error', 'texture error', 'perimeter error', 'area error',\n",
      "       'smoothness error', 'compactness error', 'concavity error',\n",
      "       'concave points error', 'symmetry error', 'fractal dimension error',\n",
      "       'worst radius', 'worst texture', 'worst perimeter', 'worst area',\n",
      "       'worst smoothness', 'worst compactness', 'worst concavity',\n",
      "       'worst concave points', 'worst symmetry', 'worst fractal dimension'],\n",
      "      dtype='object')\n"
     ]
    }
   ],
   "source": [
    "from sklearn import datasets\n",
    "data_breast_cancer = datasets.load_breast_cancer(as_frame=True)\n",
    "print(data_breast_cancer['data'].shape)\n",
    "# print(data_breast_cancer['DESCR'])\n",
    "print(data_breast_cancer['data'].columns)"
   ]
  },
  {
   "cell_type": "code",
   "execution_count": 175,
   "metadata": {},
   "outputs": [
    {
     "name": "stdout",
     "output_type": "stream",
     "text": [
      "(150, 4)\n"
     ]
    }
   ],
   "source": [
    "data_iris = datasets.load_iris(as_frame=True)\n",
    "print(data_iris['data'].shape)\n",
    "#print(data_iris['DESCR'])\n"
   ]
  },
  {
   "attachments": {},
   "cell_type": "markdown",
   "metadata": {},
   "source": [
    "## Klasyfikacja\n",
    "### Breast cancer"
   ]
  },
  {
   "cell_type": "code",
   "execution_count": 176,
   "metadata": {},
   "outputs": [],
   "source": [
    "# load data\n",
    "X_train, X_test, y_train, y_test = train_test_split(data_breast_cancer['data'][['mean smoothness', 'mean area']], data_breast_cancer['target'], test_size=0.2)"
   ]
  },
  {
   "cell_type": "code",
   "execution_count": 177,
   "metadata": {},
   "outputs": [
    {
     "name": "stdout",
     "output_type": "stream",
     "text": [
      "Accuracy of breast cancer data:  0.6666666666666666\n"
     ]
    },
    {
     "name": "stderr",
     "output_type": "stream",
     "text": [
      "/home/lenovo/miniconda3/envs/ml/lib/python3.10/site-packages/sklearn/svm/_base.py:1244: ConvergenceWarning: Liblinear failed to converge, increase the number of iterations.\n",
      "  warnings.warn(\n"
     ]
    }
   ],
   "source": [
    "# create SVM model\n",
    "svm_clf = Pipeline([(\"linear_svc\", LinearSVC(C=1,\n",
    "                                            loss=\"hinge\")),\n",
    "                    ])\n",
    "svm_clf.fit(X_train, y_train)\n",
    "\n",
    "# predict\n",
    "y_predict = svm_clf.predict(X_test)\n",
    "print(\"Accuracy of breast cancer data: \", accuracy_score(y_test, y_predict))\n",
    "y_predict_train = svm_clf.predict(X_train)"
   ]
  },
  {
   "cell_type": "code",
   "execution_count": 178,
   "metadata": {},
   "outputs": [
    {
     "name": "stdout",
     "output_type": "stream",
     "text": [
      "Accuracy of breast cancer data with scaling:  0.9122807017543859\n"
     ]
    }
   ],
   "source": [
    "# create SVM models with scaling\n",
    "\n",
    "svm_clf_scaled = Pipeline([\n",
    "                        (\"scaler\", StandardScaler()),\n",
    "                        (\"linear_svc\", LinearSVC(C=1,\n",
    "                                                loss=\"hinge\",\n",
    "                                                random_state=42)),\n",
    "                        ])\n",
    "svm_clf_scaled = svm_clf_scaled.fit(X_train, y_train)\n",
    "\n",
    "# predict\n",
    "y_predict_scaled = svm_clf_scaled.predict(X_test)\n",
    "print(\"Accuracy of breast cancer data with scaling: \", accuracy_score(y_test, y_predict_scaled))\n",
    "y_predict_train_scaled = svm_clf_scaled.predict(X_train)"
   ]
  },
  {
   "cell_type": "code",
   "execution_count": 179,
   "metadata": {},
   "outputs": [
    {
     "name": "stdout",
     "output_type": "stream",
     "text": [
      "[0.6175824175824176, 0.6666666666666666, 0.9076923076923077, 0.9122807017543859]\n"
     ]
    }
   ],
   "source": [
    "accuracy_array = [\n",
    "                  accuracy_score(y_train, y_predict_train), # train accuracy\n",
    "                  accuracy_score(y_test, y_predict), # test accuracy\n",
    "                  accuracy_score(y_train, y_predict_train_scaled), # train accuracy with scaling\n",
    "                  accuracy_score(y_test, y_predict_scaled)] # test accuracy with scaling\n",
    "# save to pickle file\n",
    "with open('bc_acc.pkl', 'wb') as f:\n",
    "    pickle.dump(accuracy_array, f)\n",
    "print(accuracy_array)\n",
    "                  "
   ]
  },
  {
   "attachments": {},
   "cell_type": "markdown",
   "metadata": {},
   "source": [
    "### Iris"
   ]
  },
  {
   "cell_type": "code",
   "execution_count": 180,
   "metadata": {},
   "outputs": [],
   "source": [
    "X_train, X_test, y_train, y_test = train_test_split(data_iris['data'], data_iris['target'], test_size=0.2)"
   ]
  },
  {
   "cell_type": "code",
   "execution_count": 181,
   "metadata": {},
   "outputs": [
    {
     "name": "stdout",
     "output_type": "stream",
     "text": [
      "Accuracy of iris data:  0.9\n"
     ]
    },
    {
     "name": "stderr",
     "output_type": "stream",
     "text": [
      "/home/lenovo/miniconda3/envs/ml/lib/python3.10/site-packages/sklearn/svm/_base.py:1244: ConvergenceWarning: Liblinear failed to converge, increase the number of iterations.\n",
      "  warnings.warn(\n"
     ]
    }
   ],
   "source": [
    "# create svm model\n",
    "svm_clf = Pipeline([\n",
    "                        (\"linear_svc\", LinearSVC(C=1,\n",
    "                                                loss=\"hinge\",\n",
    "                                                random_state=42)),\n",
    "                        ])\n",
    "svm_clf.fit(X_train, y_train)\n",
    "# predict\n",
    "y_predict = svm_clf.predict(X_test)\n",
    "print(\"Accuracy of iris data: \", accuracy_score(y_test, y_predict))\n",
    "y_predict_train = svm_clf.predict(X_train)"
   ]
  },
  {
   "cell_type": "code",
   "execution_count": 182,
   "metadata": {},
   "outputs": [
    {
     "name": "stdout",
     "output_type": "stream",
     "text": [
      "Accuracy of iris data with scaling:  0.9\n"
     ]
    },
    {
     "name": "stderr",
     "output_type": "stream",
     "text": [
      "/home/lenovo/miniconda3/envs/ml/lib/python3.10/site-packages/sklearn/svm/_base.py:1244: ConvergenceWarning: Liblinear failed to converge, increase the number of iterations.\n",
      "  warnings.warn(\n"
     ]
    }
   ],
   "source": [
    "# create SVM models with scaling\n",
    "svm_clf_scaled = Pipeline([\n",
    "                        (\"scaler\", StandardScaler()),\n",
    "                        (\"linear_svc\", LinearSVC(C=1,\n",
    "                                                loss=\"hinge\",\n",
    "                                                random_state=42)),\n",
    "                        ])\n",
    "svm_clf_scaled = svm_clf_scaled.fit(X_train, y_train)\n",
    "\n",
    "# predict\n",
    "y_predict_scaled = svm_clf_scaled.predict(X_test)\n",
    "print(\"Accuracy of iris data with scaling: \", accuracy_score(y_test, y_predict_scaled))\n",
    "y_predict_train_scaled = svm_clf_scaled.predict(X_train)"
   ]
  },
  {
   "cell_type": "code",
   "execution_count": 183,
   "metadata": {},
   "outputs": [
    {
     "name": "stdout",
     "output_type": "stream",
     "text": [
      "[0.95, 0.9, 0.925, 0.9]\n"
     ]
    }
   ],
   "source": [
    "accuracy_array = [\n",
    "                  accuracy_score(y_train, y_predict_train), # train accuracy\n",
    "                  accuracy_score(y_test, y_predict), # test accuracy\n",
    "                  accuracy_score(y_train, y_predict_train_scaled), # train accuracy with scaling\n",
    "                  accuracy_score(y_test, y_predict_scaled)] # test accuracy with scaling\n",
    "# save to pickle file\n",
    "with open('iris_acc.pkl', 'wb') as f:\n",
    "    pickle.dump(accuracy_array, f)\n",
    "print(accuracy_array)\n",
    "                  "
   ]
  }
 ],
 "metadata": {
  "kernelspec": {
   "display_name": "ml",
   "language": "python",
   "name": "python3"
  },
  "language_info": {
   "codemirror_mode": {
    "name": "ipython",
    "version": 3
   },
   "file_extension": ".py",
   "mimetype": "text/x-python",
   "name": "python",
   "nbconvert_exporter": "python",
   "pygments_lexer": "ipython3",
   "version": "3.10.6"
  },
  "orig_nbformat": 4
 },
 "nbformat": 4,
 "nbformat_minor": 2
}
