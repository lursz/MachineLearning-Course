{
 "cells": [
  {
   "cell_type": "code",
   "execution_count": 95,
   "metadata": {},
   "outputs": [],
   "source": [
    "import tensorflow as tf\n",
    "import matplotlib.pyplot as plt\n",
    "import os\n",
    "import numpy as np"
   ]
  },
  {
   "attachments": {},
   "cell_type": "markdown",
   "metadata": {},
   "source": [
    "## Get data"
   ]
  },
  {
   "cell_type": "code",
   "execution_count": 96,
   "metadata": {},
   "outputs": [],
   "source": [
    "fashion_mnist = tf.keras.datasets.fashion_mnist\n",
    "(X_train, y_train), (X_test, y_test) = fashion_mnist.load_data()\n",
    "assert X_train.shape == (60000, 28, 28)\n",
    "assert X_test.shape == (10000, 28, 28)\n",
    "assert y_train.shape == (60000,)\n",
    "assert y_test.shape == (10000,)\n",
    "\n",
    "# Scale the data\n",
    "X_train = X_train / 255.0\n",
    "X_test = X_test / 255.0"
   ]
  },
  {
   "cell_type": "code",
   "execution_count": 97,
   "metadata": {},
   "outputs": [
    {
     "data": {
      "image/png": "[encoded data removed]",
      "text/plain": [
       "<Figure size 640x480 with 1 Axes>"
      ]
     },
     "metadata": {},
     "output_type": "display_data"
    }
   ],
   "source": [
    "plt.imshow(X_train[142], cmap=\"binary\")\n",
    "plt.axis('off')\n",
    "plt.show()"
   ]
  },
  {
   "attachments": {},
   "cell_type": "markdown",
   "metadata": {},
   "source": [
    "## List of categories"
   ]
  },
  {
   "cell_type": "code",
   "execution_count": 98,
   "metadata": {},
   "outputs": [
    {
     "data": {
      "text/plain": [
       "'but'"
      ]
     },
     "execution_count": 98,
     "metadata": {},
     "output_type": "execute_result"
    }
   ],
   "source": [
    "class_names = [\"koszulka\", \"spodnie\", \"pulower\", \"sukienka\", \"kurtka\", \"sandał\", \"koszula\", \"but\", \"torba\", \"kozak\"]\n",
    "class_names[y_train[142]]"
   ]
  },
  {
   "attachments": {},
   "cell_type": "markdown",
   "metadata": {},
   "source": [
    "# Keras Sequential"
   ]
  },
  {
   "cell_type": "code",
   "execution_count": 99,
   "metadata": {},
   "outputs": [
    {
     "name": "stdout",
     "output_type": "stream",
     "text": [
      "(60000,)\n",
      "Model: \"sequential_15\"\n",
      "_________________________________________________________________\n",
      " Layer (type)                Output Shape              Param #   \n",
      "=================================================================\n",
      " flatten_3 (Flatten)         (None, 784)               0         \n",
      "                                                                 \n",
      " dense_42 (Dense)            (None, 300)               235500    \n",
      "                                                                 \n",
      " dense_43 (Dense)            (None, 100)               30100     \n",
      "                                                                 \n",
      " dense_44 (Dense)            (None, 10)                1010      \n",
      "                                                                 \n",
      "=================================================================\n",
      "Total params: 266,610\n",
      "Trainable params: 266,610\n",
      "Non-trainable params: 0\n",
      "_________________________________________________________________\n",
      "You must install pydot (`pip install pydot`) and install graphviz (see instructions at https://graphviz.gitlab.io/download/) for plot_model to work.\n"
     ]
    }
   ],
   "source": [
    "model = tf.keras.models.Sequential([\n",
    "    tf.keras.layers.Flatten(input_shape=[28, 28]),\n",
    "    tf.keras.layers.Dense(300, activation=\"relu\"),\n",
    "    tf.keras.layers.Dense(100, activation=\"relu\"),\n",
    "    tf.keras.layers.Dense(10, activation=\"softmax\")\n",
    "])\n",
    "print(y_train.shape)\n",
    "model.summary()\n",
    "tf.keras.utils.plot_model(model, \"fashion_mnist.png\", show_shapes=True)\n"
   ]
  },
  {
   "attachments": {},
   "cell_type": "markdown",
   "metadata": {},
   "source": [
    "## Crossentropy"
   ]
  },
  {
   "cell_type": "code",
   "execution_count": 100,
   "metadata": {},
   "outputs": [],
   "source": [
    "model.compile(loss=\"sparse_categorical_crossentropy\", optimizer=\"sgd\", metrics=[\"accuracy\"])\n"
   ]
  },
  {
   "attachments": {},
   "cell_type": "markdown",
   "metadata": {},
   "source": [
    "## Callback Tensorboard"
   ]
  },
  {
   "cell_type": "code",
   "execution_count": 101,
   "metadata": {},
   "outputs": [
    {
     "name": "stdout",
     "output_type": "stream",
     "text": [
      "Epoch 1/20\n",
      "1875/1875 [==============================] - 29s 15ms/step - loss: 0.7109 - accuracy: 0.7678 - val_loss: 0.5309 - val_accuracy: 0.8213\n",
      "Epoch 2/20\n",
      "1875/1875 [==============================] - 33s 18ms/step - loss: 0.4852 - accuracy: 0.8324 - val_loss: 0.5071 - val_accuracy: 0.8244\n",
      "Epoch 3/20\n",
      "1875/1875 [==============================] - 16s 8ms/step - loss: 0.4407 - accuracy: 0.8473 - val_loss: 0.4732 - val_accuracy: 0.8354\n",
      "Epoch 4/20\n",
      "1875/1875 [==============================] - 57s 30ms/step - loss: 0.4158 - accuracy: 0.8549 - val_loss: 0.4334 - val_accuracy: 0.8491\n",
      "Epoch 5/20\n",
      "1875/1875 [==============================] - 44s 24ms/step - loss: 0.3947 - accuracy: 0.8611 - val_loss: 0.4486 - val_accuracy: 0.8420\n",
      "Epoch 6/20\n",
      "1875/1875 [==============================] - 28s 15ms/step - loss: 0.3796 - accuracy: 0.8664 - val_loss: 0.4040 - val_accuracy: 0.8583\n",
      "Epoch 7/20\n",
      "1875/1875 [==============================] - 23s 12ms/step - loss: 0.3665 - accuracy: 0.8707 - val_loss: 0.3975 - val_accuracy: 0.8577\n",
      "Epoch 8/20\n",
      "1875/1875 [==============================] - 11s 6ms/step - loss: 0.3553 - accuracy: 0.8749 - val_loss: 0.3962 - val_accuracy: 0.8562\n",
      "Epoch 9/20\n",
      "1875/1875 [==============================] - 11s 6ms/step - loss: 0.3446 - accuracy: 0.8770 - val_loss: 0.4104 - val_accuracy: 0.8494\n",
      "Epoch 10/20\n",
      "1875/1875 [==============================] - 10s 5ms/step - loss: 0.3354 - accuracy: 0.8808 - val_loss: 0.4186 - val_accuracy: 0.8451\n",
      "Epoch 11/20\n",
      "1875/1875 [==============================] - 10s 5ms/step - loss: 0.3264 - accuracy: 0.8845 - val_loss: 0.3784 - val_accuracy: 0.8681\n",
      "Epoch 12/20\n",
      "1875/1875 [==============================] - 17s 9ms/step - loss: 0.3186 - accuracy: 0.8868 - val_loss: 0.3731 - val_accuracy: 0.8677\n",
      "Epoch 13/20\n",
      "1875/1875 [==============================] - 12s 6ms/step - loss: 0.3113 - accuracy: 0.8884 - val_loss: 0.3713 - val_accuracy: 0.8637\n",
      "Epoch 14/20\n",
      "1875/1875 [==============================] - 11s 6ms/step - loss: 0.3038 - accuracy: 0.8915 - val_loss: 0.3502 - val_accuracy: 0.8742\n",
      "Epoch 15/20\n",
      "1875/1875 [==============================] - 11s 6ms/step - loss: 0.2975 - accuracy: 0.8937 - val_loss: 0.3510 - val_accuracy: 0.8731\n",
      "Epoch 16/20\n",
      "1875/1875 [==============================] - 9s 5ms/step - loss: 0.2917 - accuracy: 0.8950 - val_loss: 0.3509 - val_accuracy: 0.8701\n",
      "Epoch 17/20\n",
      "1875/1875 [==============================] - 11s 6ms/step - loss: 0.2854 - accuracy: 0.8973 - val_loss: 0.3499 - val_accuracy: 0.8754\n",
      "Epoch 18/20\n",
      "1875/1875 [==============================] - 13s 7ms/step - loss: 0.2804 - accuracy: 0.8996 - val_loss: 0.3543 - val_accuracy: 0.8727\n",
      "Epoch 19/20\n",
      "1875/1875 [==============================] - 13s 7ms/step - loss: 0.2759 - accuracy: 0.9012 - val_loss: 0.3539 - val_accuracy: 0.8709\n",
      "Epoch 20/20\n",
      "1875/1875 [==============================] - 10s 5ms/step - loss: 0.2711 - accuracy: 0.9021 - val_loss: 0.3345 - val_accuracy: 0.8823\n"
     ]
    }
   ],
   "source": [
    "logdir = os.path.join(os.curdir, \"image_logs\")\n",
    "\n",
    "tensorboard_cb = tf.keras.callbacks.TensorBoard(logdir)\n",
    "\n",
    "# Train the model\n",
    "history = model.fit(X_train, y_train, epochs=20, \n",
    "                    validation_split=0.1,\n",
    "                    validation_data=(X_test, y_test), \n",
    "                    callbacks=[tensorboard_cb])\n"
   ]
  },
  {
   "cell_type": "code",
   "execution_count": 102,
   "metadata": {},
   "outputs": [
    {
     "name": "stdout",
     "output_type": "stream",
     "text": [
      "1/1 [==============================] - 0s 49ms/step\n",
      "Prediction: sukienka\n",
      "Confidence: 0.5099353\n",
      "Truth: spodnie\n"
     ]
    },
    {
     "data": {
      "image/png": "[encoded data removed]",
      "text/plain": [
       "<Figure size 640x480 with 1 Axes>"
      ]
     },
     "metadata": {},
     "output_type": "display_data"
    }
   ],
   "source": [
    "# Show pictures\n",
    "image_index = np.random.randint(len(X_test))\n",
    "image = np.array([X_test[image_index]])\n",
    "confidences = model.predict(image)\n",
    "confidence = np.max(confidences[0])\n",
    "prediction = np.argmax(confidences[0])\n",
    "print(\"Prediction:\", class_names[prediction])\n",
    "print(\"Confidence:\", confidence)\n",
    "print(\"Truth:\", class_names[y_test[image_index]])\n",
    "plt.imshow(image[0], cmap=\"binary\")\n",
    "plt.axis('off')\n",
    "plt.show()"
   ]
  },
  {
   "cell_type": "code",
   "execution_count": 103,
   "metadata": {},
   "outputs": [
    {
     "name": "stdout",
     "output_type": "stream",
     "text": [
      "313/313 [==============================] - 2s 7ms/step - loss: 0.3345 - accuracy: 0.8823\n",
      "Test loss: [0.3344516158103943, 0.8823000192642212]\n"
     ]
    }
   ],
   "source": [
    "# Save Tensorflow model\n",
    "model.save(\"fashion_clf.h5\")\n",
    "\n",
    "# Test\n",
    "print(\"Test loss:\", model.evaluate(X_test, y_test))"
   ]
  },
  {
   "attachments": {},
   "cell_type": "markdown",
   "metadata": {},
   "source": [
    "# Regression"
   ]
  },
  {
   "cell_type": "code",
   "execution_count": 104,
   "metadata": {},
   "outputs": [],
   "source": [
    "from sklearn.datasets import fetch_california_housing\n",
    "from sklearn.model_selection import train_test_split\n",
    "from sklearn.preprocessing import StandardScaler"
   ]
  },
  {
   "cell_type": "code",
   "execution_count": 105,
   "metadata": {},
   "outputs": [],
   "source": [
    "housing = fetch_california_housing(as_frame=True)\n",
    "X_train, X_test, y_train, y_test = train_test_split(housing[\"data\"], housing[\"target\"], test_size=0.2)\n",
    "X_train, X_valid, y_train, y_valid = train_test_split(X_train, y_train, test_size=0.5, random_state=1) # 60% train and 20% validation"
   ]
  },
  {
   "attachments": {},
   "cell_type": "markdown",
   "metadata": {},
   "source": [
    "## Scaler\n"
   ]
  },
  {
   "cell_type": "code",
   "execution_count": 106,
   "metadata": {},
   "outputs": [],
   "source": [
    "scaler = StandardScaler()\n",
    "X_train = scaler.fit_transform(X_train)\n",
    "X_valid = scaler.transform(X_valid)\n",
    "X_test = scaler.transform(X_test)"
   ]
  },
  {
   "attachments": {},
   "cell_type": "markdown",
   "metadata": {},
   "source": [
    "## 1st model"
   ]
  },
  {
   "cell_type": "code",
   "execution_count": 107,
   "metadata": {},
   "outputs": [],
   "source": [
    "model_housing_1 = tf.keras.models.Sequential([\n",
    "    tf.keras.layers.Dense(30, activation=\"relu\"),\n",
    "    tf.keras.layers.Dense(1)\n",
    "])\n",
    "\n",
    "model_housing_1.compile(loss=\"mean_squared_error\", optimizer=\"sgd\")\n"
   ]
  },
  {
   "attachments": {},
   "cell_type": "markdown",
   "metadata": {},
   "source": [
    "Early stopping"
   ]
  },
  {
   "cell_type": "code",
   "execution_count": 108,
   "metadata": {},
   "outputs": [],
   "source": [
    "early_stopping_cb = tf.keras.callbacks.EarlyStopping(patience=5, min_delta=0.01, verbose=1)"
   ]
  },
  {
   "attachments": {},
   "cell_type": "markdown",
   "metadata": {},
   "source": [
    "Callback Tensorboard"
   ]
  },
  {
   "cell_type": "code",
   "execution_count": 109,
   "metadata": {},
   "outputs": [
    {
     "name": "stdout",
     "output_type": "stream",
     "text": [
      "Epoch 1/30\n"
     ]
    },
    {
     "name": "stdout",
     "output_type": "stream",
     "text": [
      "258/258 [==============================] - 2s 6ms/step - loss: 1.0579 - val_loss: 0.6292\n",
      "Epoch 2/30\n",
      "258/258 [==============================] - 2s 6ms/step - loss: 0.5340 - val_loss: 0.5257\n",
      "Epoch 3/30\n",
      "258/258 [==============================] - 1s 4ms/step - loss: 0.4884 - val_loss: 0.4854\n",
      "Epoch 4/30\n",
      "258/258 [==============================] - 1s 4ms/step - loss: 0.4498 - val_loss: 0.4650\n",
      "Epoch 5/30\n",
      "258/258 [==============================] - 2s 7ms/step - loss: 0.4301 - val_loss: 0.4528\n",
      "Epoch 6/30\n",
      "258/258 [==============================] - 1s 6ms/step - loss: 0.4525 - val_loss: 0.4541\n",
      "Epoch 7/30\n",
      "258/258 [==============================] - 1s 5ms/step - loss: 0.4184 - val_loss: 0.4454\n",
      "Epoch 8/30\n",
      "258/258 [==============================] - 1s 4ms/step - loss: 0.4140 - val_loss: 0.4331\n",
      "Epoch 9/30\n",
      "258/258 [==============================] - 2s 8ms/step - loss: 0.4056 - val_loss: 0.4556\n",
      "Epoch 10/30\n",
      "258/258 [==============================] - 1s 4ms/step - loss: 0.4094 - val_loss: 0.4203\n",
      "Epoch 11/30\n",
      "258/258 [==============================] - 1s 4ms/step - loss: 0.3911 - val_loss: 0.4183\n",
      "Epoch 12/30\n",
      "258/258 [==============================] - 1s 4ms/step - loss: 0.3854 - val_loss: 0.4098\n",
      "Epoch 13/30\n",
      "258/258 [==============================] - 1s 4ms/step - loss: 0.3952 - val_loss: 0.4093\n",
      "Epoch 14/30\n",
      "258/258 [==============================] - 1s 4ms/step - loss: 0.3791 - val_loss: 0.4072\n",
      "Epoch 15/30\n",
      "258/258 [==============================] - 1s 5ms/step - loss: 0.3780 - val_loss: 0.4014\n",
      "Epoch 16/30\n",
      "258/258 [==============================] - 1s 4ms/step - loss: 0.3777 - val_loss: 0.3986\n",
      "Epoch 17/30\n",
      "258/258 [==============================] - 1s 5ms/step - loss: 0.3734 - val_loss: 0.4168\n",
      "Epoch 18/30\n",
      "258/258 [==============================] - 1s 4ms/step - loss: 0.4003 - val_loss: 0.3975\n",
      "Epoch 19/30\n",
      "258/258 [==============================] - 1s 4ms/step - loss: 0.3721 - val_loss: 0.3965\n",
      "Epoch 20/30\n",
      "258/258 [==============================] - 1s 4ms/step - loss: 0.3662 - val_loss: 0.3912\n",
      "Epoch 21/30\n",
      "258/258 [==============================] - 1s 4ms/step - loss: 0.3641 - val_loss: 0.3952\n",
      "Epoch 21: early stopping\n"
     ]
    }
   ],
   "source": [
    "logdir = os.path.join(os.curdir, \"housing_logs\")\n",
    "\n",
    "tensorboard_cb = tf.keras.callbacks.TensorBoard(logdir)\n",
    "\n",
    "# Train the model\n",
    "history = model_housing_1.fit(X_train, y_train, epochs=30,\n",
    "                            validation_data=(X_valid, y_valid), \n",
    "                            callbacks=[early_stopping_cb, tensorboard_cb])\n"
   ]
  },
  {
   "cell_type": "code",
   "execution_count": 110,
   "metadata": {},
   "outputs": [
    {
     "name": "stdout",
     "output_type": "stream",
     "text": [
      "129/129 [==============================] - 0s 2ms/step - loss: 0.4080\n",
      "MSE: 0.4080103039741516\n"
     ]
    }
   ],
   "source": [
    "# Save model\n",
    "model_housing_1.save(\"reg_housing_1.h5\")\n",
    "\n",
    "# Test the model\n",
    "mse_test = model_housing_1.evaluate(X_test, y_test)\n",
    "print(\"MSE:\", mse_test)"
   ]
  },
  {
   "attachments": {},
   "cell_type": "markdown",
   "metadata": {},
   "source": [
    "## 2nd model"
   ]
  },
  {
   "cell_type": "code",
   "execution_count": 111,
   "metadata": {},
   "outputs": [
    {
     "name": "stdout",
     "output_type": "stream",
     "text": [
      "Epoch 1/30\n",
      "258/258 [==============================] - 2s 6ms/step - loss: 0.9452 - val_loss: 0.5411\n",
      "Epoch 2/30\n",
      "258/258 [==============================] - 2s 6ms/step - loss: 0.4807 - val_loss: 0.4650\n",
      "Epoch 3/30\n",
      "258/258 [==============================] - 1s 5ms/step - loss: 0.4216 - val_loss: 0.4381\n",
      "Epoch 4/30\n",
      "258/258 [==============================] - 1s 6ms/step - loss: 0.3936 - val_loss: 0.4063\n",
      "Epoch 5/30\n",
      "258/258 [==============================] - 3s 10ms/step - loss: 0.3782 - val_loss: 0.4123\n",
      "Epoch 6/30\n",
      "258/258 [==============================] - 1s 6ms/step - loss: 0.3687 - val_loss: 0.3968\n",
      "Epoch 7/30\n",
      "258/258 [==============================] - 2s 6ms/step - loss: 0.3630 - val_loss: 0.3861\n",
      "Epoch 8/30\n",
      "258/258 [==============================] - 1s 5ms/step - loss: 0.3551 - val_loss: 0.3842\n",
      "Epoch 9/30\n",
      "258/258 [==============================] - 1s 5ms/step - loss: 0.3502 - val_loss: 0.3869\n",
      "Epoch 10/30\n",
      "258/258 [==============================] - 1s 5ms/step - loss: 0.3444 - val_loss: 0.3778\n",
      "Epoch 11/30\n",
      "258/258 [==============================] - 1s 5ms/step - loss: 0.3416 - val_loss: 0.3646\n",
      "Epoch 12/30\n",
      "258/258 [==============================] - 2s 8ms/step - loss: 0.3359 - val_loss: 0.3665\n",
      "Epoch 13/30\n",
      "258/258 [==============================] - 1s 5ms/step - loss: 0.3308 - val_loss: 0.3632\n",
      "Epoch 14/30\n",
      "258/258 [==============================] - 1s 5ms/step - loss: 0.3284 - val_loss: 0.3627\n",
      "Epoch 15/30\n",
      "258/258 [==============================] - 1s 4ms/step - loss: 0.3268 - val_loss: 0.3600\n",
      "Epoch 16/30\n",
      "258/258 [==============================] - 1s 4ms/step - loss: 0.3226 - val_loss: 0.3546\n",
      "Epoch 16: early stopping\n",
      "129/129 [==============================] - 0s 2ms/step - loss: 0.3650\n",
      "MSE: 0.36500465869903564\n"
     ]
    }
   ],
   "source": [
    "model_housing_2 = tf.keras.models.Sequential([\n",
    "    tf.keras.layers.Dense(50, activation=\"relu\"),\n",
    "    tf.keras.layers.Dense(25, activation=\"relu\"),\n",
    "    tf.keras.layers.Dense(1)\n",
    "])\n",
    "model_housing_2.compile(loss=\"mean_squared_error\", optimizer=\"sgd\")\n",
    "\n",
    "# Train the model\n",
    "history = model_housing_2.fit(X_train, y_train, epochs=30,\n",
    "                            validation_data=(X_valid, y_valid),\n",
    "                            callbacks=[early_stopping_cb, tensorboard_cb])\n",
    "\n",
    "# Save model\n",
    "model_housing_2.save(\"reg_housing_2.h5\")\n",
    "\n",
    "# Test the accuracy\n",
    "mse_test = model_housing_2.evaluate(X_test, y_test)\n",
    "print(\"MSE:\", mse_test)"
   ]
  },
  {
   "attachments": {},
   "cell_type": "markdown",
   "metadata": {},
   "source": [
    "## 3rd model"
   ]
  },
  {
   "cell_type": "code",
   "execution_count": 112,
   "metadata": {},
   "outputs": [
    {
     "name": "stdout",
     "output_type": "stream",
     "text": [
      "Epoch 1/30\n",
      "258/258 [==============================] - 2s 6ms/step - loss: 0.8888 - val_loss: 0.5795\n",
      "Epoch 2/30\n",
      "258/258 [==============================] - 2s 6ms/step - loss: 0.5083 - val_loss: 0.4895\n",
      "Epoch 3/30\n",
      "258/258 [==============================] - 2s 6ms/step - loss: 0.4343 - val_loss: 0.4631\n",
      "Epoch 4/30\n",
      "258/258 [==============================] - 2s 8ms/step - loss: 0.4040 - val_loss: 0.4272\n",
      "Epoch 5/30\n",
      "258/258 [==============================] - 1s 4ms/step - loss: 0.3823 - val_loss: 0.3991\n",
      "Epoch 6/30\n",
      "258/258 [==============================] - 1s 5ms/step - loss: 0.3708 - val_loss: 0.3890\n",
      "Epoch 7/30\n",
      "258/258 [==============================] - 2s 7ms/step - loss: 0.3591 - val_loss: 0.3836\n",
      "Epoch 8/30\n",
      "258/258 [==============================] - 1s 5ms/step - loss: 0.3529 - val_loss: 0.3735\n",
      "Epoch 9/30\n",
      "258/258 [==============================] - 1s 5ms/step - loss: 0.3471 - val_loss: 0.3872\n",
      "Epoch 10/30\n",
      "258/258 [==============================] - 2s 7ms/step - loss: 0.3437 - val_loss: 0.3692\n",
      "Epoch 11/30\n",
      "258/258 [==============================] - 2s 9ms/step - loss: 0.3376 - val_loss: 0.3791\n",
      "Epoch 12/30\n",
      "258/258 [==============================] - 2s 7ms/step - loss: 0.3339 - val_loss: 0.3820\n",
      "Epoch 13/30\n",
      "258/258 [==============================] - 2s 8ms/step - loss: 0.3304 - val_loss: 0.3566\n",
      "Epoch 14/30\n",
      "258/258 [==============================] - 1s 5ms/step - loss: 0.3277 - val_loss: 0.3632\n",
      "Epoch 15/30\n",
      "258/258 [==============================] - 1s 5ms/step - loss: 0.3234 - val_loss: 0.3531\n",
      "Epoch 16/30\n",
      "258/258 [==============================] - 2s 8ms/step - loss: 0.3219 - val_loss: 0.3474\n",
      "Epoch 17/30\n",
      "258/258 [==============================] - 2s 7ms/step - loss: 0.3174 - val_loss: 0.3483\n",
      "Epoch 18/30\n",
      "258/258 [==============================] - 1s 6ms/step - loss: 0.3134 - val_loss: 0.3412\n",
      "Epoch 19/30\n",
      "258/258 [==============================] - 1s 5ms/step - loss: 0.3131 - val_loss: 0.3361\n",
      "Epoch 20/30\n",
      "258/258 [==============================] - 1s 6ms/step - loss: 0.3116 - val_loss: 0.3362\n",
      "Epoch 21/30\n",
      "258/258 [==============================] - 1s 6ms/step - loss: 0.3090 - val_loss: 0.3350\n",
      "Epoch 22/30\n",
      "258/258 [==============================] - 1s 5ms/step - loss: 0.3065 - val_loss: 0.3436\n",
      "Epoch 23/30\n",
      "258/258 [==============================] - 2s 6ms/step - loss: 0.3054 - val_loss: 0.3340\n",
      "Epoch 23: early stopping\n",
      "129/129 [==============================] - 0s 2ms/step - loss: 0.3526\n",
      "MSE: 0.3525714874267578\n"
     ]
    }
   ],
   "source": [
    "model_housing_3 = tf.keras.models.Sequential([\n",
    "    tf.keras.layers.Dense(50, activation=\"relu\"),\n",
    "    tf.keras.layers.Dense(25, activation=\"relu\"),\n",
    "    tf.keras.layers.Dense(10, activation=\"relu\"),\n",
    "    tf.keras.layers.Dense(1)\n",
    "])\n",
    "model_housing_3.compile(loss=\"mean_squared_error\", optimizer=\"sgd\")\n",
    "\n",
    "# Train the model\n",
    "history = model_housing_3.fit(X_train, y_train, epochs=30,\n",
    "                            validation_data=(X_valid, y_valid),\n",
    "                            callbacks=[early_stopping_cb, tensorboard_cb])\n",
    "\n",
    "# Save model\n",
    "model_housing_3.save(\"reg_housing_3.h5\")\n",
    "\n",
    "# Test the accuracy\n",
    "mse_test = model_housing_3.evaluate(X_test, y_test)\n",
    "print(\"MSE:\", mse_test)\n"
   ]
  }
 ],
 "metadata": {
  "kernelspec": {
   "display_name": "ml",
   "language": "python",
   "name": "python3"
  },
  "language_info": {
   "codemirror_mode": {
    "name": "ipython",
    "version": 3
   },
   "file_extension": ".py",
   "mimetype": "text/x-python",
   "name": "python",
   "nbconvert_exporter": "python",
   "pygments_lexer": "ipython3",
   "version": "3.11.3"
  },
  "orig_nbformat": 4
 },
 "nbformat": 4,
 "nbformat_minor": 2
}
